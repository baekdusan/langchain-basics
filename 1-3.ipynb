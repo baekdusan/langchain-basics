{
 "cells": [
  {
   "cell_type": "markdown",
   "metadata": {},
   "source": [
    "## 프롬프트\n",
    "\n",
    "- 사용자와 언어 모델 간의 대화에서 질문이나 요청의 형태로 제시되는 입력문\n",
    "- 모델이 어떤 유형의 응답을 제공할지 결정하는 데 중요한 역할을 한다."
   ]
  },
  {
   "cell_type": "markdown",
   "metadata": {},
   "source": [
    "1. 명확성과 구체성\n",
    "    - 질문은 명확하고 구체적으로\n",
    "2. 배경 정보를 포함\n",
    "    - 모델이 문맥을 이해할 수 있도록 필요한 배경 정보 제공\n",
    "3. 간결함\n",
    "    - 불필요한 정보는 배제\n",
    "4. 열린 질문 사용\n",
    "    - 풍부한 답변을 기대할 수 있음\n",
    "5. 명확한 목표 설정\n",
    "6. 대화의 맥락에 적합한 언어와 문체 사용\n",
    "    - 공식적인 보고서를 요청할 건데 평어를 쓰면 안된다"
   ]
  },
  {
   "cell_type": "code",
   "execution_count": 1,
   "metadata": {},
   "outputs": [
    {
     "data": {
      "text/plain": [
       "'안녕하세요, 제 이름은 홍길동이고, 나이는 30살입니다.'"
      ]
     },
     "execution_count": 1,
     "metadata": {},
     "output_type": "execute_result"
    }
   ],
   "source": [
    "from langchain_core.prompts import PromptTemplate\n",
    "\n",
    "# 'name'과 'age'라는 두 개의 변수를 사용하는 프롬프트 템플릿을 정의\n",
    "template_text = \"안녕하세요, 제 이름은 {name}이고, 나이는 {age}살입니다.\"\n",
    "\n",
    "# PromptTemplate 인스턴스를 생성\n",
    "prompt_template = PromptTemplate.from_template(template_text)\n",
    "\n",
    "# 템플릿에 값을 채워서 프롬프트를 완성\n",
    "filled_prompt = prompt_template.format(name=\"홍길동\", age=30)\n",
    "\n",
    "filled_prompt"
   ]
  },
  {
   "cell_type": "code",
   "execution_count": 2,
   "metadata": {},
   "outputs": [
    {
     "data": {
      "text/plain": [
       "PromptTemplate(input_variables=['age', 'language', 'name'], input_types={}, partial_variables={}, template='안녕하세요, 제 이름은 {name}이고, 나이는 {age}살입니다.\\n\\n아버지를 아버지라 부를 수 없습니다.\\n\\n{language}로 번역해주세요.')"
      ]
     },
     "execution_count": 2,
     "metadata": {},
     "output_type": "execute_result"
    }
   ],
   "source": [
    "# 문자열 템플릿 결합 (PromptTemplate + PromptTemplate + 문자열)\n",
    "# 그냥 프롬프트 문자열을 결합시킬 수 있다고 생각하면 됨\n",
    "combined_prompt = (\n",
    "              prompt_template\n",
    "              + PromptTemplate.from_template(\"\\n\\n아버지를 아버지라 부를 수 없습니다.\")\n",
    "              + \"\\n\\n{language}로 번역해주세요.\"\n",
    ")\n",
    "\n",
    "combined_prompt"
   ]
  },
  {
   "cell_type": "code",
   "execution_count": 3,
   "metadata": {},
   "outputs": [
    {
     "data": {
      "text/plain": [
       "'안녕하세요, 제 이름은 홍길동이고, 나이는 30살입니다.\\n\\n아버지를 아버지라 부를 수 없습니다.\\n\\n영어로 번역해주세요.'"
      ]
     },
     "execution_count": 3,
     "metadata": {},
     "output_type": "execute_result"
    }
   ],
   "source": [
    "combined_prompt.format(name=\"홍길동\", age=30, language=\"영어\")"
   ]
  },
  {
   "cell_type": "code",
   "execution_count": 4,
   "metadata": {},
   "outputs": [
    {
     "data": {
      "text/plain": [
       "'Hello, my name is Hong Gil-dong, and I am 30 years old.\\n\\nI cannot call my father \"father.\"'"
      ]
     },
     "execution_count": 4,
     "metadata": {},
     "output_type": "execute_result"
    }
   ],
   "source": [
    "from langchain_openai import ChatOpenAI\n",
    "from langchain_core.output_parsers import StrOutputParser\n",
    "\n",
    "llm = ChatOpenAI(model=\"gpt-4o-mini\")\n",
    "chain = combined_prompt | llm | StrOutputParser()\n",
    "chain.invoke({\"age\":30, \"language\":\"영어\", \"name\":\"홍길동\"})"
   ]
  },
  {
   "cell_type": "markdown",
   "metadata": {},
   "source": [
    "- SystemMessage: 시스템의 기능을 설명합니다.\n",
    "- HumanMessage: 사용자의 질문을 나타냅니다.\n",
    "- AIMessage: AI 모델의 응답을 제공합니다.\n",
    "- FunctionMessage: 특정 함수 호출의 결과를 나타냅니다.\n",
    "- ToolMessage: 도구 호출의 결과를 나타냅니다."
   ]
  },
  {
   "cell_type": "code",
   "execution_count": 5,
   "metadata": {},
   "outputs": [
    {
     "data": {
      "text/plain": [
       "[SystemMessage(content='이 시스템은 천문학 질문에 답변할 수 있습니다.', additional_kwargs={}, response_metadata={}),\n",
       " HumanMessage(content='태양계에서 가장 큰 행성은 무엇인가요?', additional_kwargs={}, response_metadata={})]"
      ]
     },
     "execution_count": 5,
     "metadata": {},
     "output_type": "execute_result"
    }
   ],
   "source": [
    "# 2-튜플 형태의 메시지 목록으로 프롬프트 생성 (type, content)\n",
    "\n",
    "from langchain_core.prompts import ChatPromptTemplate\n",
    "\n",
    "chat_prompt = ChatPromptTemplate.from_messages([\n",
    "    (\"system\", \"이 시스템은 천문학 질문에 답변할 수 있습니다.\"),\n",
    "    (\"user\", \"{user_input}\"),\n",
    "])\n",
    "\n",
    "messages = chat_prompt.format_messages(user_input=\"태양계에서 가장 큰 행성은 무엇인가요?\")\n",
    "messages"
   ]
  },
  {
   "cell_type": "code",
   "execution_count": 6,
   "metadata": {},
   "outputs": [
    {
     "data": {
      "text/plain": [
       "'태양계에서 가장 큰 행성은 목성(Jupiter)입니다. 목성은 지름이 약 139,822킬로미터로, 태양계의 다른 모든 행성을 합친 것보다도 더 큽니다. 또한, 목성은 가스 거인으로 분류되며, 두꺼운 대기와 강력한 자기장을 가지고 있습니다.'"
      ]
     },
     "execution_count": 6,
     "metadata": {},
     "output_type": "execute_result"
    }
   ],
   "source": [
    "from langchain_core.output_parsers import StrOutputParser\n",
    "\n",
    "chain = chat_prompt | llm | StrOutputParser()\n",
    "\n",
    "chain.invoke({\"user_input\": \"태양계에서 가장 큰 행성은 무엇인가요?\"})"
   ]
  },
  {
   "cell_type": "code",
   "execution_count": null,
   "metadata": {},
   "outputs": [],
   "source": [
    "# MessagePromptTemplate 활용\n",
    "\n",
    "from langchain_core.prompts import SystemMessagePromptTemplate,  HumanMessagePromptTemplate\n",
    "\n",
    "chat_prompt = ChatPromptTemplate.from_messages(\n",
    "    [\n",
    "        SystemMessagePromptTemplate.from_template(\"이 시스템은 천문학 질문에 답변할 수 있습니다.\"),\n",
    "        HumanMessagePromptTemplate.from_template(\"{user_input}\"),\n",
    "    ]\n",
    ")\n",
    "\n",
    "messages = chat_prompt.format_messages(user_input=\"태양계에서 가장 큰 행성은 무엇인가요?\")\n",
    "messages"
   ]
  },
  {
   "cell_type": "code",
   "execution_count": null,
   "metadata": {},
   "outputs": [],
   "source": [
    "chain = chat_prompt | llm | StrOutputParser()\n",
    "\n",
    "chain.invoke({\"user_input\": \"태양계에서 가장 큰 행성은 무엇인가요?\"})\n"
   ]
  },
  {
   "cell_type": "markdown",
   "metadata": {},
   "source": [
    "## Few-shot Prompt\n",
    "\n",
    "- 몇 가지 예시를 제공하여 특정 작업을 수행하도록 유도하는 기법"
   ]
  },
  {
   "cell_type": "code",
   "execution_count": 7,
   "metadata": {},
   "outputs": [],
   "source": [
    "from langchain_core.prompts import PromptTemplate\n",
    "\n",
    "example_prompt = PromptTemplate.from_template(\"질문: {question}\\n{answer}\")"
   ]
  },
  {
   "cell_type": "code",
   "execution_count": 8,
   "metadata": {},
   "outputs": [],
   "source": [
    "# 예제 세트 제공\n",
    "\n",
    "examples = [\n",
    "    {\n",
    "        \"question\": \"지구의 대기 중 가장 많은 비율을 차지하는 기체는 무엇인가요?\",\n",
    "        \"answer\": \"지구 대기의 약 78%를 차지하는 질소입니다.\"\n",
    "    },\n",
    "    {\n",
    "        \"question\": \"광합성에 필요한 주요 요소들은 무엇인가요?\",\n",
    "        \"answer\": \"광합성에 필요한 주요 요소는 빛, 이산화탄소, 물입니다.\"\n",
    "    },\n",
    "    {\n",
    "        \"question\": \"피타고라스 정리를 설명해주세요.\",\n",
    "        \"answer\": \"피타고라스 정리는 직각삼각형에서 빗변의 제곱이 다른 두 변의 제곱의 합과 같다는 것입니다.\"\n",
    "    },\n",
    "    {\n",
    "        \"question\": \"지구의 자전 주기는 얼마인가요?\",\n",
    "        \"answer\": \"지구의 자전 주기는 약 24시간(정확히는 23시간 56분 4초)입니다.\"\n",
    "    },\n",
    "    {\n",
    "        \"question\": \"DNA의 기본 구조를 간단히 설명해주세요.\",\n",
    "        \"answer\": \"DNA는 두 개의 폴리뉴클레오티드 사슬이 이중 나선 구조를 이루고 있습니다.\"\n",
    "    },\n",
    "    {\n",
    "        \"question\": \"원주율(π)의 정의는 무엇인가요?\",\n",
    "        \"answer\": \"원주율(π)은 원의 지름에 대한 원의 둘레의 비율입니다.\"\n",
    "    }\n",
    "]"
   ]
  },
  {
   "cell_type": "code",
   "execution_count": 9,
   "metadata": {},
   "outputs": [
    {
     "name": "stdout",
     "output_type": "stream",
     "text": [
      "질문: 지구의 대기 중 가장 많은 비율을 차지하는 기체는 무엇인가요?\n",
      "지구 대기의 약 78%를 차지하는 질소입니다.\n",
      "\n",
      "질문: 광합성에 필요한 주요 요소들은 무엇인가요?\n",
      "광합성에 필요한 주요 요소는 빛, 이산화탄소, 물입니다.\n",
      "\n",
      "질문: 피타고라스 정리를 설명해주세요.\n",
      "피타고라스 정리는 직각삼각형에서 빗변의 제곱이 다른 두 변의 제곱의 합과 같다는 것입니다.\n",
      "\n",
      "질문: 지구의 자전 주기는 얼마인가요?\n",
      "지구의 자전 주기는 약 24시간(정확히는 23시간 56분 4초)입니다.\n",
      "\n",
      "질문: DNA의 기본 구조를 간단히 설명해주세요.\n",
      "DNA는 두 개의 폴리뉴클레오티드 사슬이 이중 나선 구조를 이루고 있습니다.\n",
      "\n",
      "질문: 원주율(π)의 정의는 무엇인가요?\n",
      "원주율(π)은 원의 지름에 대한 원의 둘레의 비율입니다.\n",
      "\n",
      "질문: 화성의 표면이 붉은 이유는 무엇인가요?\n"
     ]
    }
   ],
   "source": [
    "from langchain_core.prompts import FewShotPromptTemplate\n",
    "\n",
    "# FewShotPromptTemplate을 생성합니다.\n",
    "prompt = FewShotPromptTemplate(\n",
    "    examples=examples,              # 사용할 예제들\n",
    "    example_prompt=example_prompt,  # 예제 포맷팅에 사용할 템플릿\n",
    "    suffix=\"질문: {input}\",          # 예제 뒤에 추가될 접미사\n",
    "    input_variables=[\"input\"],      # 입력 변수 지정\n",
    ")\n",
    "\n",
    "# 새로운 질문에 대한 프롬프트를 생성하고 출력합니다.\n",
    "print(prompt.invoke({\"input\": \"화성의 표면이 붉은 이유는 무엇인가요?\"}).to_string())\n",
    "\n",
    "# 위 예시를 통해 지금은 그냥 \"화성의 표면이~~\" 를 프롬프트로 주었지만 앞에 \"질문: \" 이게 붙을 것임."
   ]
  },
  {
   "cell_type": "code",
   "execution_count": 10,
   "metadata": {},
   "outputs": [
    {
     "name": "stdout",
     "output_type": "stream",
     "text": [
      "입력과 가장 유사한 예제: 화성의 표면이 붉은 이유는 무엇인가요?\n",
      "\n",
      "\n",
      "answer: 지구 대기의 약 78%를 차지하는 질소입니다.\n",
      "question: 지구의 대기 중 가장 많은 비율을 차지하는 기체는 무엇인가요?\n"
     ]
    }
   ],
   "source": [
    "from langchain_chroma import Chroma\n",
    "from langchain_core.example_selectors import SemanticSimilarityExampleSelector\n",
    "from langchain_openai import OpenAIEmbeddings\n",
    "\n",
    "# 예시들 중 가장 유사한 녀석 하나(k = 1)를 골라주는 녀석\n",
    "example_selector = SemanticSimilarityExampleSelector.from_examples(\n",
    "    examples,            # 사용할 예제들\n",
    "    OpenAIEmbeddings(),  # 임베딩 모델\n",
    "    Chroma,              # 벡터 저장소\n",
    "    k=1,                 # 선택할 예제 수\n",
    ")\n",
    "\n",
    "# 새로운 질문에 대해 가장 유사한 예제를 선택합니다.\n",
    "question = \"화성의 표면이 붉은 이유는 무엇인가요?\"\n",
    "selected_examples = example_selector.select_examples({\"question\": question})\n",
    "print(f\"입력과 가장 유사한 예제: {question}\")\n",
    "for example in selected_examples:\n",
    "    print(\"\\n\")\n",
    "    for k, v in example.items():\n",
    "        print(f\"{k}: {v}\")"
   ]
  },
  {
   "cell_type": "code",
   "execution_count": 11,
   "metadata": {},
   "outputs": [
    {
     "name": "stdout",
     "output_type": "stream",
     "text": [
      "지구의 자전 주기는 약 24시간, 즉 1일입니다. 정확히는 약 23시간 56분 4초로, 이를 '항성일'이라고 합니다. 그러나 우리가 일반적으로 사용하는 1일은 태양일로, 태양이 같은 위치에 돌아오는 시간을 기준으로 합니다.\n"
     ]
    }
   ],
   "source": [
    "from langchain_core.prompts import ChatPromptTemplate, FewShotChatMessagePromptTemplate\n",
    "\n",
    "# 예제 정의\n",
    "examples = [\n",
    "    {\"input\": \"지구의 대기 중 가장 많은 비율을 차지하는 기체는 무엇인가요?\", \"output\": \"질소입니다.\"},\n",
    "    {\"input\": \"광합성에 필요한 주요 요소들은 무엇인가요?\", \"output\": \"빛, 이산화탄소, 물입니다.\"},\n",
    "]\n",
    "\n",
    "# 예제 프롬프트 템플릿 정의\n",
    "example_prompt = ChatPromptTemplate.from_messages(\n",
    "    [\n",
    "        (\"human\", \"{input}\"),\n",
    "        (\"ai\", \"{output}\"),\n",
    "    ]\n",
    ")\n",
    "\n",
    "# Few-shot 프롬프트 템플릿 생성\n",
    "few_shot_prompt = FewShotChatMessagePromptTemplate(\n",
    "    example_prompt=example_prompt,\n",
    "    examples=examples,\n",
    ")\n",
    "\n",
    "# 최종 프롬프트 템플릿 생성\n",
    "final_prompt = ChatPromptTemplate.from_messages(\n",
    "    [\n",
    "        (\"system\", \"당신은 과학과 수학에 대해 잘 아는 교육자입니다.\"),\n",
    "        few_shot_prompt,\n",
    "        (\"human\", \"{input}\"),\n",
    "    ]\n",
    ")\n",
    "\n",
    "# 모델과 체인 생성\n",
    "from langchain_openai import ChatOpenAI\n",
    "\n",
    "model = ChatOpenAI(model=\"gpt-4o-mini\", temperature=0.0)\n",
    "chain = final_prompt | model\n",
    "\n",
    "# 모델에 질문하기\n",
    "result = chain.invoke({\"input\": \"지구의 자전 주기는 얼마인가요?\"})\n",
    "print(result.content)"
   ]
  },
  {
   "cell_type": "code",
   "execution_count": 14,
   "metadata": {},
   "outputs": [
    {
     "name": "stdout",
     "output_type": "stream",
     "text": [
      "['지구의 대기 중 가장 많은 비율을 차지하는 기체는 무엇인가요? 질소입니다.', '광합성에 필요한 주요 요소들은 무엇인가요? 빛, 이산화탄소, 물입니다.', '피타고라스 정리를 설명해주세요. 직각삼각형에서 빗변의 제곱은 다른 두 변의 제곱의 합과 같습니다.', 'DNA의 기본 구조를 간단히 설명해주세요. DNA는 이중 나선 구조를 가진 핵산입니다.', '원주율(π)의 정의는 무엇인가요? 원의 둘레와 지름의 비율입니다.']\n",
      "태양계에서 가장 큰 행성은 목성(Jupiter)입니다. 목성은 지름이 약 142,984킬로미터로, 태양계의 다른 행성들보다 훨씬 큽니다.\n"
     ]
    }
   ],
   "source": [
    "from langchain_chroma import Chroma\n",
    "from langchain_core.example_selectors import SemanticSimilarityExampleSelector\n",
    "from langchain_openai import OpenAIEmbeddings\n",
    "\n",
    "# 더 많은 예제 추가\n",
    "examples = [\n",
    "    {\"input\": \"지구의 대기 중 가장 많은 비율을 차지하는 기체는 무엇인가요?\", \"output\": \"질소입니다.\"},\n",
    "    {\"input\": \"광합성에 필요한 주요 요소들은 무엇인가요?\", \"output\": \"빛, 이산화탄소, 물입니다.\"},\n",
    "    {\"input\": \"피타고라스 정리를 설명해주세요.\", \"output\": \"직각삼각형에서 빗변의 제곱은 다른 두 변의 제곱의 합과 같습니다.\"},\n",
    "    {\"input\": \"DNA의 기본 구조를 간단히 설명해주세요.\", \"output\": \"DNA는 이중 나선 구조를 가진 핵산입니다.\"},\n",
    "    {\"input\": \"원주율(π)의 정의는 무엇인가요?\", \"output\": \"원의 둘레와 지름의 비율입니다.\"},\n",
    "]\n",
    "\n",
    "# 벡터 저장소 생성\n",
    "to_vectorize = [\" \".join(example.values()) for example in examples]\n",
    "print(to_vectorize)\n",
    "\n",
    "embeddings = OpenAIEmbeddings()\n",
    "vectorstore = Chroma.from_texts(to_vectorize, embeddings, metadatas=examples)\n",
    "\n",
    "# 예제 선택기 생성; 상위 2개만 선택한다\n",
    "example_selector = SemanticSimilarityExampleSelector(\n",
    "    vectorstore=vectorstore,\n",
    "    k=2,\n",
    ")\n",
    "\n",
    "# Few-shot 프롬프트 템플릿 생성\n",
    "few_shot_prompt = FewShotChatMessagePromptTemplate(\n",
    "    example_selector=example_selector,\n",
    "    example_prompt=ChatPromptTemplate.from_messages(\n",
    "        [(\"human\", \"{input}\"), (\"ai\", \"{output}\")]\n",
    "    ),\n",
    ")\n",
    "\n",
    "# 최종 프롬프트 템플릿 생성\n",
    "final_prompt = ChatPromptTemplate.from_messages(\n",
    "    [\n",
    "        (\"system\", \"당신은 과학과 수학에 대해 잘 아는 교육자입니다.\"),\n",
    "        few_shot_prompt,\n",
    "        (\"human\", \"{input}\"),\n",
    "    ]\n",
    ")\n",
    " \n",
    "# 모델과 체인 생성\n",
    "chain = final_prompt | ChatOpenAI(model=\"gpt-4o-mini\", temperature=0.0)\n",
    "\n",
    "# 모델에 질문하기\n",
    "result = chain.invoke({\"input\":\"태양계에서 가장 큰 행성은 무엇인가요?\"})\n",
    "print(result.content)\n"
   ]
  },
  {
   "cell_type": "markdown",
   "metadata": {},
   "source": [
    "## Partial Prompt\n",
    "\n",
    "- 별건 아니고, 변수를 미리 설정하거나 동적으로 설정할 수 있다는 내용"
   ]
  },
  {
   "cell_type": "code",
   "execution_count": 15,
   "metadata": {},
   "outputs": [
    {
     "name": "stdout",
     "output_type": "stream",
     "text": [
      "지구의 지각에서 가장 흔한 원소는 산소입니다.\n"
     ]
    }
   ],
   "source": [
    "from langchain_core.prompts import PromptTemplate\n",
    "\n",
    "# 기본 프롬프트 템플릿 정의\n",
    "prompt = PromptTemplate.from_template(\"지구의 {layer}에서 가장 흔한 원소는 {element}입니다.\")\n",
    "\n",
    "# 'layer' 변수에 '지각' 값을 미리 지정하여 부분 포맷팅\n",
    "partial_prompt = prompt.partial(element=\"산소\")\n",
    "\n",
    "# 나머지 'element' 변수만 입력하여 완전한 문장 생성\n",
    "print(partial_prompt.format(layer=\"지각\"))"
   ]
  },
  {
   "cell_type": "code",
   "execution_count": 16,
   "metadata": {},
   "outputs": [
    {
     "name": "stdout",
     "output_type": "stream",
     "text": [
      "지구의 맨틀에서 가장 흔한 원소는 규소입니다.\n"
     ]
    }
   ],
   "source": [
    "# 프롬프트 초기화 시 부분 변수 지정\n",
    "prompt = PromptTemplate(\n",
    "    template=\"지구의 {layer}에서 가장 흔한 원소는 {element}입니다.\",\n",
    "    input_variables=[\"element\"],  # 사용자 입력이 필요한 변수\n",
    "    partial_variables={\"layer\": \"맨틀\"}  # 미리 지정된 부분 변수\n",
    ")\n",
    "\n",
    "# 남은 'element' 변수만 입력하여 문장 생성\n",
    "print(prompt.format(element=\"규소\"))"
   ]
  },
  {
   "cell_type": "code",
   "execution_count": 17,
   "metadata": {},
   "outputs": [
    {
     "name": "stdout",
     "output_type": "stream",
     "text": [
      "겨울에 일어나는 대표적인 지구과학 현상은 꽃가루 증가입니다.\n"
     ]
    }
   ],
   "source": [
    "from datetime import datetime\n",
    "\n",
    "# 현재 시각을 가져와서 계절을 반환하는 함수 정의\n",
    "def get_current_season():\n",
    "    month = datetime.now().month\n",
    "    if 3 <= month <= 5:\n",
    "        return \"봄\"\n",
    "    elif 6 <= month <= 8:\n",
    "        return \"여름\"\n",
    "    elif 9 <= month <= 11:\n",
    "        return \"가을\"\n",
    "    else:\n",
    "        return \"겨울\"\n",
    "\n",
    "# 함수를 사용한 부분 변수가 있는 프롬프트 템플릿 정의\n",
    "prompt = PromptTemplate(\n",
    "    template=\"{season}에 일어나는 대표적인 지구과학 현상은 {phenomenon}입니다.\",\n",
    "    input_variables=[\"phenomenon\"],  # 사용자 입력이 필요한 변수\n",
    "    partial_variables={\"season\": get_current_season}  # 함수를 통해 동적으로 값을 생성하는 부분 변수\n",
    ")\n",
    "\n",
    "# 'phenomenon' 변수만 입력하여 현재 계절에 맞는 문장 생성\n",
    "print(prompt.format(phenomenon=\"꽃가루 증가\"))\n"
   ]
  },
  {
   "cell_type": "code",
   "execution_count": null,
   "metadata": {},
   "outputs": [],
   "source": []
  }
 ],
 "metadata": {
  "kernelspec": {
   "display_name": "3.11.9",
   "language": "python",
   "name": "python3"
  },
  "language_info": {
   "codemirror_mode": {
    "name": "ipython",
    "version": 3
   },
   "file_extension": ".py",
   "mimetype": "text/x-python",
   "name": "python",
   "nbconvert_exporter": "python",
   "pygments_lexer": "ipython3",
   "version": "3.11.9"
  }
 },
 "nbformat": 4,
 "nbformat_minor": 2
}
