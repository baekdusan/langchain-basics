{
 "cells": [
  {
   "cell_type": "markdown",
   "metadata": {},
   "source": [
    "# Chroma\n",
    "\n",
    "Chroma는 임베딩 벡터를 저장하기 위한 오픈소스 소프트웨어로, LLM(대규모 언어 모델) 앱 구축을 용이하게 하는 핵심 기능을 수행합니다. Chroma의 주요 특징은 다음과 같습니다   \n",
    "   \n",
    "- 임베딩 및 메타데이터 저장: 대규모의 임베딩 데이터와 이와 관련된 메타데이터를 효율적으로 저장할 수 있습니다.   \n",
    "- 문서 및 쿼리 임베딩: 텍스트 데이터를 벡터 공간에 매핑하여 임베딩을 생성할 수 있으며, 이를 통해 검색 작업이 가능합니다.   \n",
    "- 임베딩 검색: 사용자 쿼리에 기반하여 가장 관련성 높은 임베딩을 찾아내는 검색 기능을 제공합니다.   "
   ]
  },
  {
   "cell_type": "code",
   "execution_count": 5,
   "metadata": {},
   "outputs": [
    {
     "name": "stdout",
     "output_type": "stream",
     "text": [
      "요소의 개수 6\n",
      "texts[0]의 내용: 한국의 역사는 수천 년에 걸쳐 이어져 온 긴 여정 속에서 다양한 문화와 전통이 형성되고 발전해 왔습니다. 고조선에서 시작해 삼국 시대의 경쟁, 그리고 통일 신라와 고려를 거쳐 조선까지, 한반도는 많은 변화를 겪었습니다.\n",
      "\n",
      "고조선은 기원전 2333년 단군왕검에 의해 세워졌다고 전해집니다. 이는 한국 역사상 최초의 국가로, 한민족의 시원이라 할 수 있습니다. 이후 기원전 1세기경에는 한반도와 만주 일대에서 여러 소국이 성장하며 삼한 시대로 접어듭니다.\n"
     ]
    }
   ],
   "source": [
    "from langchain_community.document_loaders import TextLoader\n",
    "from langchain_text_splitters import RecursiveCharacterTextSplitter\n",
    "from langchain_openai import OpenAIEmbeddings\n",
    "from langchain_community.vectorstores import Chroma\n",
    "\n",
    "loader = TextLoader('history.txt')\n",
    "data = loader.load()\n",
    "\n",
    "text_splitter = RecursiveCharacterTextSplitter.from_tiktoken_encoder(\n",
    "    chunk_size=250, # 250 토큰씩 끊고\n",
    "    chunk_overlap=50, # 겹치는 건 50씩\n",
    "    encoding_name='cl100k_base'\n",
    ")\n",
    "\n",
    "texts = text_splitter.split_text(data[0].page_content) # 여기서 연산이 들어감\n",
    "print(\"요소의 개수\", len(texts))\n",
    "print(\"texts[0]의 내용:\", texts[0])"
   ]
  },
  {
   "cell_type": "code",
   "execution_count": 6,
   "metadata": {},
   "outputs": [
    {
     "data": {
      "text/plain": [
       "<langchain_community.vectorstores.chroma.Chroma at 0x113b82490>"
      ]
     },
     "execution_count": 6,
     "metadata": {},
     "output_type": "execute_result"
    }
   ],
   "source": [
    "embeddings_model = OpenAIEmbeddings() # OpenAI 임베딩을 사용하고,\n",
    "\n",
    "db = Chroma.from_texts(\n",
    "    texts, # 각각의 텍스트에 대하여 \n",
    "    embeddings_model, # 임베딩을 해줄 건데\n",
    "    collection_name = 'history', # 저장소 이름은 이걸로 해줄 거고\n",
    "    persist_directory = './db/chromadb', # 저장은 여기에 할 거야\n",
    "    collection_metadata = {'hnsw:space': 'cosine'}, # l2 is the default\n",
    ")\n",
    "\n",
    "db"
   ]
  },
  {
   "cell_type": "code",
   "execution_count": 7,
   "metadata": {},
   "outputs": [
    {
     "name": "stdout",
     "output_type": "stream",
     "text": [
      "조선은 1392년 이성계에 의해 건국되어, 1910년까지 이어졌습니다. 조선 초기에는 세종대왕이 한글을 창제하여 백성들의 문해율을 높이는 등 문화적, 과학적 성취가 이루어졌습니다. 그러나 조선 후기에는 내부적으로 실학의 발전과 함께 사회적 변화가 모색되었으나, 외부로부터의 압력은 점차 커져만 갔습니다.\n"
     ]
    }
   ],
   "source": [
    "query = '누가 한글을 창제했나요?'\n",
    "docs = db.similarity_search(query)\n",
    "print(docs[0].page_content)"
   ]
  },
  {
   "cell_type": "markdown",
   "metadata": {},
   "source": [
    "## MMR (Maximum marginal relevance search)"
   ]
  },
  {
   "cell_type": "markdown",
   "metadata": {},
   "source": [
    "유사성 점수 + 다양성 점수를 조합하여 각 문서의 최종 점수를 계산한 후에 이 최종 점수에 기반하여 문서를 선택하는 방법론   \n",
    "   \n",
    "MMR의 장점   \n",
    "- 중복 제거: 이미 선택된 문서와 중복되는 결과를 줄일 수 있습니다.\n",
    "- 다양성 향상: 검색 결과가 다양한 주제와 관점을 포함하도록 보장합니다.\n",
    "- 유연성: λ 값을 조정하여 관련성과 다양성의 중요도를 조절할 수 있습니다.\n",
    "   \n",
    "MMR의 응용 분야   \n",
    "- 문서 검색: 검색 결과에서 중복을 줄이고, 다양한 정보를 포함한 결과를 제공.\n",
    "- 추천 시스템: 사용자의 이전 선택과 중복되지 않는 추천 제공.\n",
    "- 문서 요약: 동일한 정보를 반복하지 않고 다양한 문장으로 요약 생성.\n",
    "- 대화형 AI: 대화의 다양성과 관련성을 동시에 유지."
   ]
  },
  {
   "cell_type": "code",
   "execution_count": 11,
   "metadata": {},
   "outputs": [
    {
     "data": {
      "text/plain": [
       "9"
      ]
     },
     "execution_count": 11,
     "metadata": {},
     "output_type": "execute_result"
    }
   ],
   "source": [
    "# Load data -> Text split\n",
    "\n",
    "from langchain_community.document_loaders import PyMuPDFLoader\n",
    "from langchain_text_splitters import RecursiveCharacterTextSplitter\n",
    "from langchain_openai import OpenAIEmbeddings\n",
    "from langchain_community.vectorstores import Chroma\n",
    "\n",
    "loader = PyMuPDFLoader('323410_카카오뱅크_2023.pdf') # 불러오고\n",
    "data = loader.load()\n",
    "text_splitter = RecursiveCharacterTextSplitter.from_tiktoken_encoder(\n",
    "    chunk_size=1000, \n",
    "    chunk_overlap=200,\n",
    "    encoding_name='cl100k_base'\n",
    ")\n",
    "\n",
    "documents = text_splitter.split_documents(data)\n",
    "len(documents)\n",
    "\n",
    "# 여기까지는 기존 방식이랑 동일하다"
   ]
  },
  {
   "cell_type": "code",
   "execution_count": 12,
   "metadata": {},
   "outputs": [
    {
     "data": {
      "text/plain": [
       "[Document(metadata={'source': '323410_카카오뱅크_2023.pdf', 'file_path': '323410_카카오뱅크_2023.pdf', 'page': 0, 'total_pages': 3, 'format': 'PDF 1.6', 'title': '', 'author': '교보', 'subject': '', 'keywords': '', 'creator': 'Microsoft® Word 2013', 'producer': 'Microsoft® Word 2013', 'creationDate': \"D:20230811085350+09'00'\", 'modDate': \"D:20230811085401+09'00'\", 'trapped': ''}, page_content='은행업  \\n2023 년 2 분기 실적 Review 및 투자의견 점검 \\n \\n \\n \\n  \\n \\n \\n \\n \\n Company Analysis\\n \\n \\n카카오뱅크 323410 Aug 11, 2023\\n \\n높은 고객활동성이 보여준 성장!, 그리고 확장성 \\n \\nBuy  \\n유지 \\nTP  33,000 원  \\n  상향 \\n현재가(08/10) \\n27,750 원 \\n액면가(원) \\n5,000 원 \\n52주 최고가(보통주) \\n33,150 원 \\n52주 최저가(보통주) \\n15,850 원 \\nKOSPI (08/10) \\n2,601.56p \\nKOSDAQ (08/10) \\n911.29p \\n자본금 \\n23,758 억원 \\n시가총액 \\n132,303 억원 \\n발행주식수(보통주) \\n47,677 만주 \\n발행주식수(우선주) \\n0 만주 \\n평균거래량(60일) \\n207.0 만주 \\n평균거래대금(60일) \\n572 억원 \\n외국인지분(보통주) \\n15.31% \\n주요주주  \\n \\n카카오 \\n27.17% \\n한국투자증권 \\n27.17% \\n Price & Relative Performance\\n \\n \\n주가수익률(%) \\n1개월 \\n6개월 \\n12개월 \\n절대주가 \\n19.9 \\n4.1 \\n-12.0 \\n상대주가 \\n16.1 \\n-1.1 \\n-16.1 \\n \\n \\n \\n2023년 2분기 당기순이익 820억원, QoQ -19.5%, YoY +43.9% \\n카카오뱅크의 2023년 2분기 당기순이익은 820억원으로 전분기대비 19.5% \\n감소했으나, 전년동기대비 43.9% 증가함. 이익이 전분기대비 감소한 이유는 \\n이자순익 감소에 기인하며, 전년동기대비 이익이 증가한 이유는 이자순익 증가\\n에 기인함.  \\n2023년 2분기 카카오뱅크의 이자순익은 2,542원으로 전분기대비 3.1% 감소\\n했으나, 전년동기에 비해서는 17.0% 증가함. 전분기대비 이자수익이 감소한 \\n이유는 은행 NIM(분기)이 2.43%로 전분기대비 19bp 하락했기 때문. 그러나 \\n2분기 NIM이 전년동기대비 17bp 상승한 점은 고무적인데, 주택담보대출 등 \\n전 여신 상품의 성장에 따른 것으로 판단. 비이자부분 순익(Fee순익+플랫폼\\n순익)은 약 230억원으로 전분기대비 48.4% 증가, 전년동기대비 13.5% 감소'),\n",
       " Document(metadata={'source': '323410_카카오뱅크_2023.pdf', 'file_path': '323410_카카오뱅크_2023.pdf', 'page': 0, 'total_pages': 3, 'format': 'PDF 1.6', 'title': '', 'author': '교보', 'subject': '', 'keywords': '', 'creator': 'Microsoft® Word 2013', 'producer': 'Microsoft® Word 2013', 'creationDate': \"D:20230811085350+09'00'\", 'modDate': \"D:20230811085401+09'00'\", 'trapped': ''}, page_content='이유는 은행 NIM(분기)이 2.43%로 전분기대비 19bp 하락했기 때문. 그러나 \\n2분기 NIM이 전년동기대비 17bp 상승한 점은 고무적인데, 주택담보대출 등 \\n전 여신 상품의 성장에 따른 것으로 판단. 비이자부분 순익(Fee순익+플랫폼\\n순익)은 약 230억원으로 전분기대비 48.4% 증가, 전년동기대비 13.5% 감소 \\n시현. 판관비는 1,073억원으로 전분기 및 전년동기대비 각각 15.6%, 18.4% \\n증가했으나, CIR(영업경비율) 39.0%로 견조한 수준. 충당금전입액은 586억원\\n으로 전분기 및 전년동기대비 각각 14.9%, 24.9% 증가함.  \\n투자의견 매수, 목표주가 33,000원 상향   \\n카카오뱅크에 대해 투자의견 Buy를 유지하며, 목표주가는 여신 성장을 반영하\\n여 33,000원으로 상향 조정함. 2023년 2분기 교보증권 예상을 상회하는 대출\\n성장을 통해 그 동안 축적한 높은 고객활동성이 성장으로 보여주고 있다는 점\\n에서 긍정적으로 평가하기 때문. 향후 개인금고, 오토론, mini 연령 하향, 대출\\n비교서비스 등 다양한 신규 서비스 파이프라인을 통한 확장이 기대됨.  \\n0\\n5\\n10\\n15\\n20\\n25\\n30\\n35\\n-50\\n-40\\n-30\\n-20\\n-10\\n0\\n22.08.18\\n22.11.18\\n23.02.18\\n23.05.18\\n(천원)\\n(%)\\nKOSPI상대수익률(좌측)\\n카카오뱅크주가(우측)\\n금융 김지영  \\n3771-9735, jykim79@iprovest.com \\n \\n12결산(십억원) \\nFY21 \\nFY22 \\nFY23E \\nFY24E \\nFY25E \\n순이자이익 \\n529.0  \\n724.6  \\n879.7  \\n1,148.1  \\n1,229.7  \\n비이자부문이익 \\n64.4  \\n110.5  \\n81.0  \\n102.3  \\n136.9  \\n영업이익 \\n256.9  \\n353.2  \\n514.0  \\n698.1  \\n792.9  \\n세전이익 \\n256.7  \\n351.7  \\n506.9  \\n693.3  \\n788.1  \\n지배주주순이익 \\n204.1  \\n263.1  \\n383.6  \\n525.5  \\n597.4  \\n증가율(%) \\n79.6% \\n28.9% \\n45.8% \\n37.0% \\n13.7% \\nROA(%) \\n0.7% \\n0.7% \\n0.8% \\n0.9% \\n1.0% \\nROE(%) \\n4.9% \\n4.6% \\n6.4%'),\n",
       " Document(metadata={'source': '323410_카카오뱅크_2023.pdf', 'file_path': '323410_카카오뱅크_2023.pdf', 'page': 0, 'total_pages': 3, 'format': 'PDF 1.6', 'title': '', 'author': '교보', 'subject': '', 'keywords': '', 'creator': 'Microsoft® Word 2013', 'producer': 'Microsoft® Word 2013', 'creationDate': \"D:20230811085350+09'00'\", 'modDate': \"D:20230811085401+09'00'\", 'trapped': ''}, page_content='256.9  \\n353.2  \\n514.0  \\n698.1  \\n792.9  \\n세전이익 \\n256.7  \\n351.7  \\n506.9  \\n693.3  \\n788.1  \\n지배주주순이익 \\n204.1  \\n263.1  \\n383.6  \\n525.5  \\n597.4  \\n증가율(%) \\n79.6% \\n28.9% \\n45.8% \\n37.0% \\n13.7% \\nROA(%) \\n0.7% \\n0.7% \\n0.8% \\n0.9% \\n1.0% \\nROE(%) \\n4.9% \\n4.6% \\n6.4% \\n8.1% \\n8.5% \\nEPS(원) \\n430  \\n552  \\n805  \\n1,103  \\n1,254  \\nBPS(원) \\n11,620  \\n12,203  \\n13,009  \\n14,112  \\n15,366  \\nPER(배) \\n137.3  \\n44.0  \\n34.5  \\n25.1  \\n22.1  \\nPBR(배) \\n5.1  \\n2.0  \\n2.1  \\n2.0  \\n1.8'),\n",
       " Document(metadata={'source': '323410_카카오뱅크_2023.pdf', 'file_path': '323410_카카오뱅크_2023.pdf', 'page': 1, 'total_pages': 3, 'format': 'PDF 1.6', 'title': '', 'author': '교보', 'subject': '', 'keywords': '', 'creator': 'Microsoft® Word 2013', 'producer': 'Microsoft® Word 2013', 'creationDate': \"D:20230811085350+09'00'\", 'modDate': \"D:20230811085401+09'00'\", 'trapped': ''}, page_content='은행업  \\n2023 년 2 분기 실적 Review 및 투자의견 점검 \\n \\n \\n \\n  \\n \\n \\n[도표 37] 카카오뱅크 2023 년 2 분기 실적                                                (단위 : 십억원, %)  \\n \\n \\n2Q23 \\n1Q23 \\nQoQ \\n2Q22 \\nYoY \\n영업수익 \\n613.3  \\n560.5  \\n9.4  \\n370.8  \\n65.4  \\n이자수익 \\n494.6  \\n451.5  \\n9.5  \\n292.9  \\n68.9  \\nFee수익 \\n47.9  \\n45.5  \\n5.3  \\n43.7  \\n9.6  \\n플랫폼수익 \\n18.0  \\n17.7  \\n1.7  \\n21.6  \\n-16.7  \\n기타영업수익 \\n52.8  \\n45.8  \\nN.A. \\n12.6  \\nN.A. \\n영업비용 \\n442.9  \\n373.1  \\n18.7  \\n249.5  \\n77.5  \\n이자비용 \\n240.4  \\n189.3  \\n27.0  \\n75.6  \\n218.0  \\nFee & 플랫폼비용 \\n42.9  \\n47.7  \\n-10.1  \\n38.7  \\n10.9  \\nCD/ATM 비용 \\n16.2  \\n16.2  \\n0.0  \\n14.8  \\n9.5  \\n판매관리비 \\n107.3  \\n92.8  \\n15.6  \\n90.6  \\n18.4  \\n기타영업비용 \\n27.5  \\n27.1  \\n1.5  \\n23.8  \\n15.5  \\n충당금전입액(-) \\n58.6  \\n51.0  \\n14.9  \\n46.9  \\n24.9  \\n영업이익 \\n111.8  \\n136.4  \\n-18.0  \\n74.4  \\n50.3  \\n영업외손익 \\n-3.5  \\n-1.2  \\nN.A. \\n1.1  \\nN.A. \\n법인세차감전이익 \\n108.3  \\n135.2  \\n-19.9  \\n75.5  \\n43.4  \\n법인세(-) \\n26.3  \\n33.3  \\n-21.0  \\n18.5  \\n42.2  \\n당기순이익 \\n82.0  \\n101.9  \\n-19.5  \\n57.0  \\n43.9  \\n자료: 교보증권 리서치센터 \\n[도표 38] 카카오뱅크 총 고객수 및 MAU 추이 \\n \\n \\n자료: 교보증권 리서치센터 \\n[도표 39] 순이자마진 추이 \\n [도표 40] PBR Band 차트 \\n \\n \\n \\n \\n \\n \\n \\n \\n \\n자료: Company data, 교보증권 리서치센터 \\n자료: Company data, 교보증권 리서치센터 \\n21.7\\n17.4\\n0\\n5\\n10\\n15\\n20\\n25\\n3Q17\\n4Q17\\n1Q18\\n2Q18\\n3Q18\\n4Q18\\n1Q19\\n2Q19\\n3Q19\\n4Q19\\n1Q20\\n2Q20\\n3Q20\\n4Q20\\n1Q21\\n2Q21\\n3Q21\\n4Q21\\n1Q22\\n2Q22\\n3Q22'),\n",
       " Document(metadata={'source': '323410_카카오뱅크_2023.pdf', 'file_path': '323410_카카오뱅크_2023.pdf', 'page': 1, 'total_pages': 3, 'format': 'PDF 1.6', 'title': '', 'author': '교보', 'subject': '', 'keywords': '', 'creator': 'Microsoft® Word 2013', 'producer': 'Microsoft® Word 2013', 'creationDate': \"D:20230811085350+09'00'\", 'modDate': \"D:20230811085401+09'00'\", 'trapped': ''}, page_content=\"[도표 40] PBR Band 차트 \\n \\n \\n \\n \\n \\n \\n \\n \\n \\n자료: Company data, 교보증권 리서치센터 \\n자료: Company data, 교보증권 리서치센터 \\n21.7\\n17.4\\n0\\n5\\n10\\n15\\n20\\n25\\n3Q17\\n4Q17\\n1Q18\\n2Q18\\n3Q18\\n4Q18\\n1Q19\\n2Q19\\n3Q19\\n4Q19\\n1Q20\\n2Q20\\n3Q20\\n4Q20\\n1Q21\\n2Q21\\n3Q21\\n4Q21\\n1Q22\\n2Q22\\n3Q22\\n4Q22\\n1Q23\\n2Q23\\n(백만명)\\n총고객수\\nMAU\\n0.0%\\n0.5%\\n1.0%\\n1.5%\\n2.0%\\n2.5%\\n3.0%\\n'17\\n'18\\n'19\\n'20\\n'21\\n'22\\n'23\\n카카오뱅크NIM\\n0\\n10\\n20\\n30\\n40\\n50\\n60\\n70\\n80\\n90\\n'21\\n'22\\n'23\\n(천원)\\n월간종가\\n1.0x\\n2.0x\\n3.0x\\n4.0x\\n5.0x\"),\n",
       " Document(metadata={'source': '323410_카카오뱅크_2023.pdf', 'file_path': '323410_카카오뱅크_2023.pdf', 'page': 2, 'total_pages': 3, 'format': 'PDF 1.6', 'title': '', 'author': '교보', 'subject': '', 'keywords': '', 'creator': 'Microsoft® Word 2013', 'producer': 'Microsoft® Word 2013', 'creationDate': \"D:20230811085350+09'00'\", 'modDate': \"D:20230811085401+09'00'\", 'trapped': ''}, page_content='은행업  \\n2023 년 2 분기 실적 Review 및 투자의견 점검 \\n \\n \\n \\n  \\n \\n \\n[카카오뱅크 324410]  \\n포괄손익계산서 \\n \\n \\n \\n \\n \\n \\n \\n \\n12월 결산(십억원) \\n FY18 \\n FY19 \\n FY20 \\n FY21 \\n FY22 \\n FY23E \\n FY24E \\n FY25E \\n이자수익 \\n293.9 \\n494.6 \\n599.4 \\n786.0 \\n1,249.5 \\n2,082.5 \\n2,543.6 \\n2,733.8 \\n이자비용 \\n110.5 \\n247.0 \\n191.4 \\n164.7 \\n351.7 \\n939.0 \\n1,059.1 \\n1,139.0 \\n충당금 적립전 이자이익 \\n183.4 \\n247.6 \\n408.0 \\n621.3 \\n897.8 \\n1,143.5 \\n1,484.5 \\n1,594.8 \\n대손충당금증가액 \\n9.5 \\n36.4 \\n60.9 \\n92.3 \\n173.2 \\n263.8 \\n336.4 \\n365.1 \\n순이자이익 \\n173.9 \\n211.1 \\n347.1 \\n529.0 \\n724.6 \\n879.7 \\n1,148.1 \\n1,229.7 \\n비이자부문이익 \\n-48.9 \\n-5.5 \\n21.1 \\n64.4 \\n110.5 \\n81.0 \\n102.3 \\n136.9 \\n판매관리비 \\n129.8 \\n162.5 \\n200.6 \\n286.0 \\n393.5 \\n432.1 \\n509.8 \\n530.1 \\n영업이익 \\n-21.2 \\n13.3 \\n122.6 \\n256.9 \\n353.2 \\n514.0 \\n698.1 \\n792.9 \\n영업외손익 \\n-0.1 \\n-0.1 \\n-0.2 \\n-0.2 \\n3.2 \\n-4.8 \\n-4.8 \\n-4.8 \\n법인세차감전이익 \\n-21.3 \\n13.2 \\n122.3 \\n256.7 \\n351.7 \\n506.9 \\n693.3 \\n788.1 \\n법인세등 \\n-0.3 \\n-0.6 \\n8.7 \\n52.6 \\n88.6 \\n123.3 \\n167.8 \\n190.7 \\n총순이익 \\n-21.0 \\n13.7 \\n113.6 \\n204.1 \\n263.1 \\n383.6 \\n525.5 \\n597.4 \\n외부주주지분이익 \\n0.0 \\n0.0 \\n0.0 \\n0.0 \\n0.0 \\n0.0 \\n0.0 \\n0.0 \\n당기순이익 \\n-21.0 \\n13.7 \\n113.6 \\n204.1 \\n263.1 \\n383.6 \\n525.5 \\n597.4 \\n \\n  \\n \\n \\n \\n \\n \\n \\n재무상태표 \\n \\n \\n \\n \\n \\n \\n \\n \\n12월 결산(십억원) \\n FY18 \\n FY19 \\n FY20 \\n FY21 \\n FY22 \\n FY23E \\n FY24E \\n FY25E \\n현금과 예치금 \\n1,640.5'),\n",
       " Document(metadata={'source': '323410_카카오뱅크_2023.pdf', 'file_path': '323410_카카오뱅크_2023.pdf', 'page': 2, 'total_pages': 3, 'format': 'PDF 1.6', 'title': '', 'author': '교보', 'subject': '', 'keywords': '', 'creator': 'Microsoft® Word 2013', 'producer': 'Microsoft® Word 2013', 'creationDate': \"D:20230811085350+09'00'\", 'modDate': \"D:20230811085401+09'00'\", 'trapped': ''}, page_content='0.0 \\n0.0 \\n0.0 \\n0.0 \\n0.0 \\n0.0 \\n0.0 \\n0.0 \\n당기순이익 \\n-21.0 \\n13.7 \\n113.6 \\n204.1 \\n263.1 \\n383.6 \\n525.5 \\n597.4 \\n \\n  \\n \\n \\n \\n \\n \\n \\n재무상태표 \\n \\n \\n \\n \\n \\n \\n \\n \\n12월 결산(십억원) \\n FY18 \\n FY19 \\n FY20 \\n FY21 \\n FY22 \\n FY23E \\n FY24E \\n FY25E \\n현금과 예치금 \\n1,640.5 \\n226.1 \\n2,385.5 \\n2,431.7 \\n5,875.6 \\n6,114.1 \\n6,362.4 \\n6,620.7 \\n   유가증권 \\n1,099.7 \\n2,877.1 \\n2,920.7 \\n5,704.5 \\n6,792.5 \\n9,060.3 \\n9,616.2 \\n10,086.1 \\n   대출채권 \\n9,082.0 \\n19,193.7 \\n20,709.6 \\n26,461.4 \\n27,355.3 \\n40,176.7 \\n44,347.6 \\n46,148.3 \\n(충당금) \\n32.3 \\n57.2 \\n90.5 \\n141.1 \\n209.8 \\n244.1 \\n287.8 \\n335.3 \\n고정자산 \\n0.0 \\n0.0 \\n0.0 \\n0.0 \\n0.0 \\n0.0 \\n0.0 \\n0.0 \\n기타자산 \\n272.5 \\n379.8 \\n438.8 \\n693.7 \\n932.4 \\n970.3 \\n1,009.7 \\n1,050.7 \\n자산총계 \\n12,126.7 \\n22,723.8 \\n26,649.0 \\n36,040.1 \\n40,746.1 \\n56,077.4 \\n61,048.0 \\n63,570.5 \\n예수금 \\n10,811.6 \\n20,711.9 \\n23,539.3 \\n30,026.1 \\n33,846.9 \\n44,892.2 \\n47,553.1 \\n50,371.7 \\n차입금 \\n0.0 \\n0.0 \\n0.0 \\n0.0 \\n0.0 \\n0.0 \\n0.0 \\n0.0 \\n사채 \\n0.0 \\n0.0 \\n0.0 \\n0.0 \\n0.0 \\n0.0 \\n0.0 \\n0.0 \\n기타부채 \\n174.7 \\n333.2 \\n313.8 \\n492.6 \\n1,086.8 \\n4,989.3 \\n6,773.6 \\n5,880.1 \\n부채총계 \\n10,986.3 \\n21,045.1 \\n23,853.0 \\n30,518.7 \\n34,933.8 \\n49,881.5 \\n54,326.7 \\n56,251.8 \\n자본금 \\n1,300.0 \\n1,825.5 \\n2,038.3 \\n2,375.8 \\n2,381.4 \\n2,381.4 \\n2,381.4 \\n2,381.4 \\n자본잉여금 \\n0.0 \\n0.0 \\n759.8 \\n2,956.2 \\n2,957.9 \\n2,957.9 \\n2,957.9 \\n2,957.9'),\n",
       " Document(metadata={'source': '323410_카카오뱅크_2023.pdf', 'file_path': '323410_카카오뱅크_2023.pdf', 'page': 2, 'total_pages': 3, 'format': 'PDF 1.6', 'title': '', 'author': '교보', 'subject': '', 'keywords': '', 'creator': 'Microsoft® Word 2013', 'producer': 'Microsoft® Word 2013', 'creationDate': \"D:20230811085350+09'00'\", 'modDate': \"D:20230811085401+09'00'\", 'trapped': ''}, page_content='5,880.1 \\n부채총계 \\n10,986.3 \\n21,045.1 \\n23,853.0 \\n30,518.7 \\n34,933.8 \\n49,881.5 \\n54,326.7 \\n56,251.8 \\n자본금 \\n1,300.0 \\n1,825.5 \\n2,038.3 \\n2,375.8 \\n2,381.4 \\n2,381.4 \\n2,381.4 \\n2,381.4 \\n자본잉여금 \\n0.0 \\n0.0 \\n759.8 \\n2,956.2 \\n2,957.9 \\n2,957.9 \\n2,957.9 \\n2,957.9 \\n이익잉여금 \\n-141.2 \\n-127.5 \\n-13.8 \\n190.3 \\n453.4 \\n837.0 \\n1,362.5 \\n1,959.9 \\n자본조정 \\n-18.7 \\n-22.1 \\n4.9 \\n26.8 \\n19.6 \\n19.6 \\n19.6 \\n19.6 \\n기타포괄손익누계액 \\n0.3 \\n2.8 \\n7.8 \\n-27.8 \\n-116.7 \\n-116.7 \\n-116.7 \\n-116.7 \\n자기자본 \\n1,140.4 \\n1,678.7 \\n2,797.0 \\n5,521.4 \\n5,812.3 \\n6,195.9 \\n6,721.4 \\n7,318.8 \\n비지배지분 \\n0.0 \\n0.0 \\n0.0 \\n0.0 \\n0.0 \\n0.0 \\n0.0 \\n0.0 \\n지배지분 자기자본 \\n1,140.4 \\n1,678.7 \\n2,797.0 \\n5,521.4 \\n5,812.3 \\n6,195.9 \\n6,721.4 \\n7,318.8 \\n \\n  \\n \\n \\n \\n \\n \\n \\n주요 투자지표 \\n \\n \\n \\n \\n \\n \\n \\n \\n12월 결산(원,배,%) \\n FY18 \\n FY19 \\n FY20 \\n FY21 \\n FY22 \\n FY23E \\n FY24E \\n FY25E \\nROA(%) \\n-0.2% \\n0.1% \\n0.5% \\n0.7% \\n0.7% \\n0.8% \\n0.9% \\n1.0% \\nROE(%) \\n-2.3% \\n1.0% \\n5.1% \\n4.9% \\n4.6% \\n6.4% \\n8.1% \\n8.5% \\nEPS(원) \\n-31 \\n34 \\n277 \\n430 \\n552 \\n805 \\n1,103 \\n1,254 \\nBPS(원) \\n1,687 \\n4,098 \\n6,828 \\n11,620 \\n12,203 \\n13,009 \\n14,112 \\n15,366 \\nPER(배) \\nn.a \\nn.a \\n328.0 \\n137.3 \\n44.0 \\n34.5 \\n25.1 \\n22.1 \\nPBR(배) \\nn.a \\nn.a \\n13.3 \\n5.1 \\n2.0 \\n2.1 \\n2.0 \\n1.8 \\nDPS(원) \\nn.a \\nn.a \\n0 \\n0 \\n80 \\n120 \\n170 \\n190 \\n배당성향(%) \\nn.a \\nn.a \\nn.a \\nn.a \\n14.5 \\n15.0 \\n15.0'),\n",
       " Document(metadata={'source': '323410_카카오뱅크_2023.pdf', 'file_path': '323410_카카오뱅크_2023.pdf', 'page': 2, 'total_pages': 3, 'format': 'PDF 1.6', 'title': '', 'author': '교보', 'subject': '', 'keywords': '', 'creator': 'Microsoft® Word 2013', 'producer': 'Microsoft® Word 2013', 'creationDate': \"D:20230811085350+09'00'\", 'modDate': \"D:20230811085401+09'00'\", 'trapped': ''}, page_content='6,828 \\n11,620 \\n12,203 \\n13,009 \\n14,112 \\n15,366 \\nPER(배) \\nn.a \\nn.a \\n328.0 \\n137.3 \\n44.0 \\n34.5 \\n25.1 \\n22.1 \\nPBR(배) \\nn.a \\nn.a \\n13.3 \\n5.1 \\n2.0 \\n2.1 \\n2.0 \\n1.8 \\nDPS(원) \\nn.a \\nn.a \\n0 \\n0 \\n80 \\n120 \\n170 \\n190 \\n배당성향(%) \\nn.a \\nn.a \\nn.a \\nn.a \\n14.5 \\n15.0 \\n15.0 \\n15.0 \\n배당수익률(%) \\nn.a \\nn.a \\nn.a \\nn.a \\n0.3 \\n0.4 \\n0.6 \\n0.7 \\n자료: Company data, 교보증권 리서치센터')]"
      ]
     },
     "execution_count": 12,
     "metadata": {},
     "output_type": "execute_result"
    }
   ],
   "source": [
    "documents"
   ]
  },
  {
   "cell_type": "code",
   "execution_count": 13,
   "metadata": {},
   "outputs": [
    {
     "data": {
      "text/plain": [
       "<langchain_community.vectorstores.chroma.Chroma at 0x123e58810>"
      ]
     },
     "execution_count": 13,
     "metadata": {},
     "output_type": "execute_result"
    }
   ],
   "source": [
    "# Embedding -> Upload to Vectorstore\n",
    "from langchain_community.vectorstores import Chroma\n",
    "from langchain_openai import OpenAIEmbeddings\n",
    "\n",
    "embeddings_model = OpenAIEmbeddings()\n",
    "db2 = Chroma.from_documents(\n",
    "    documents, \n",
    "    embeddings_model,\n",
    "    collection_name = 'esg',\n",
    "    persist_directory = './db/chromadb',\n",
    "    collection_metadata = {'hnsw:space': 'cosine'}, # l2 is the default\n",
    ")\n",
    "\n",
    "db2\n"
   ]
  },
  {
   "cell_type": "code",
   "execution_count": 14,
   "metadata": {},
   "outputs": [
    {
     "name": "stdout",
     "output_type": "stream",
     "text": [
      "4\n",
      "은행업  \n",
      "2023 년 2 분기 실적 Review 및 투자의견 점검 \n",
      " \n",
      " \n",
      " \n",
      "  \n",
      " \n",
      " \n",
      "[도표 37] 카카오뱅크 2023 년 2 분기 실적                                                (단위 : 십억원, %)  \n",
      " \n",
      " \n",
      "2Q23 \n",
      "1Q23 \n",
      "QoQ \n",
      "2Q22 \n",
      "YoY \n",
      "영업수익 \n",
      "613.3  \n",
      "560.5  \n",
      "9.4  \n",
      "370.8  \n",
      "65.4  \n",
      "이자수익 \n",
      "494.6  \n",
      "451.5  \n",
      "9.5  \n",
      "292.9  \n",
      "68.9  \n",
      "Fee수익 \n",
      "47.9  \n",
      "45.5  \n",
      "5.3  \n",
      "43.7  \n",
      "9.6  \n",
      "플랫폼수익 \n",
      "18.0  \n",
      "17.7  \n",
      "1.7  \n",
      "21.6  \n",
      "-16.7  \n",
      "기타영업수익 \n",
      "52.8  \n",
      "45.8  \n",
      "N.A. \n",
      "12.6  \n",
      "N.A. \n",
      "영업비용 \n",
      "442.9  \n",
      "373.1  \n",
      "18.7  \n",
      "249.5  \n",
      "77.5  \n",
      "이자비용 \n",
      "240.4  \n",
      "189.3  \n",
      "27.0  \n",
      "75.6  \n",
      "218.0  \n",
      "Fee & 플랫폼비용 \n",
      "42.9  \n",
      "47.7  \n",
      "-10.1  \n",
      "38.7  \n",
      "10.9  \n",
      "CD/ATM 비용 \n",
      "16.2  \n",
      "16.2  \n",
      "0.0  \n",
      "14.8  \n",
      "9.5  \n",
      "판매관리비 \n",
      "107.3  \n",
      "92.8  \n",
      "15.6  \n",
      "90.6  \n",
      "18.4  \n",
      "기타영업비용 \n",
      "27.5  \n",
      "27.1  \n",
      "1.5  \n",
      "23.8  \n",
      "15.5  \n",
      "충당금전입액(-) \n",
      "58.6  \n",
      "51.0  \n",
      "14.9  \n",
      "46.9  \n",
      "24.9  \n",
      "영업이익 \n",
      "111.8  \n",
      "136.4  \n",
      "-18.0  \n",
      "74.4  \n",
      "50.3  \n",
      "영업외손익 \n",
      "-3.5  \n",
      "-1.2  \n",
      "N.A. \n",
      "1.1  \n",
      "N.A. \n",
      "법인세차감전이익 \n",
      "108.3  \n",
      "135.2  \n",
      "-19.9  \n",
      "75.5  \n",
      "43.4  \n",
      "법인세(-) \n",
      "26.3  \n",
      "33.3  \n",
      "-21.0  \n",
      "18.5  \n",
      "42.2  \n",
      "당기순이익 \n",
      "82.0  \n",
      "101.9  \n",
      "-19.5  \n",
      "57.0  \n",
      "43.9  \n",
      "자료: 교보증권 리서치센터 \n",
      "[도표 38] 카카오뱅크 총 고객수 및 MAU 추이 \n",
      " \n",
      " \n",
      "자료: 교보증권 리서치센터 \n",
      "[도표 39] 순이자마진 추이 \n",
      " [도표 40] PBR Band 차트 \n",
      " \n",
      " \n",
      " \n",
      " \n",
      " \n",
      " \n",
      " \n",
      " \n",
      " \n",
      "자료: Company data, 교보증권 리서치센터 \n",
      "자료: Company data, 교보증권 리서치센터 \n",
      "21.7\n",
      "17.4\n",
      "0\n",
      "5\n",
      "10\n",
      "15\n",
      "20\n",
      "25\n",
      "3Q17\n",
      "4Q17\n",
      "1Q18\n",
      "2Q18\n",
      "3Q18\n",
      "4Q18\n",
      "1Q19\n",
      "2Q19\n",
      "3Q19\n",
      "4Q19\n",
      "1Q20\n",
      "2Q20\n",
      "3Q20\n",
      "4Q20\n",
      "1Q21\n",
      "2Q21\n",
      "3Q21\n",
      "4Q21\n",
      "1Q22\n",
      "2Q22\n",
      "3Q22\n"
     ]
    }
   ],
   "source": [
    "query = '카카오뱅크의 환경목표와 세부추진내용을 알려줄래?'\n",
    "docs = db2.similarity_search(query)\n",
    "print(len(docs))\n",
    "print(docs[0].page_content)"
   ]
  },
  {
   "cell_type": "code",
   "execution_count": 15,
   "metadata": {},
   "outputs": [
    {
     "name": "stdout",
     "output_type": "stream",
     "text": [
      "5,880.1 \n",
      "부채총계 \n",
      "10,986.3 \n",
      "21,045.1 \n",
      "23,853.0 \n",
      "30,518.7 \n",
      "34,933.8 \n",
      "49,881.5 \n",
      "54,326.7 \n",
      "56,251.8 \n",
      "자본금 \n",
      "1,300.0 \n",
      "1,825.5 \n",
      "2,038.3 \n",
      "2,375.8 \n",
      "2,381.4 \n",
      "2,381.4 \n",
      "2,381.4 \n",
      "2,381.4 \n",
      "자본잉여금 \n",
      "0.0 \n",
      "0.0 \n",
      "759.8 \n",
      "2,956.2 \n",
      "2,957.9 \n",
      "2,957.9 \n",
      "2,957.9 \n",
      "2,957.9 \n",
      "이익잉여금 \n",
      "-141.2 \n",
      "-127.5 \n",
      "-13.8 \n",
      "190.3 \n",
      "453.4 \n",
      "837.0 \n",
      "1,362.5 \n",
      "1,959.9 \n",
      "자본조정 \n",
      "-18.7 \n",
      "-22.1 \n",
      "4.9 \n",
      "26.8 \n",
      "19.6 \n",
      "19.6 \n",
      "19.6 \n",
      "19.6 \n",
      "기타포괄손익누계액 \n",
      "0.3 \n",
      "2.8 \n",
      "7.8 \n",
      "-27.8 \n",
      "-116.7 \n",
      "-116.7 \n",
      "-116.7 \n",
      "-116.7 \n",
      "자기자본 \n",
      "1,140.4 \n",
      "1,678.7 \n",
      "2,797.0 \n",
      "5,521.4 \n",
      "5,812.3 \n",
      "6,195.9 \n",
      "6,721.4 \n",
      "7,318.8 \n",
      "비지배지분 \n",
      "0.0 \n",
      "0.0 \n",
      "0.0 \n",
      "0.0 \n",
      "0.0 \n",
      "0.0 \n",
      "0.0 \n",
      "0.0 \n",
      "지배지분 자기자본 \n",
      "1,140.4 \n",
      "1,678.7 \n",
      "2,797.0 \n",
      "5,521.4 \n",
      "5,812.3 \n",
      "6,195.9 \n",
      "6,721.4 \n",
      "7,318.8 \n",
      " \n",
      "  \n",
      " \n",
      " \n",
      " \n",
      " \n",
      " \n",
      " \n",
      "주요 투자지표 \n",
      " \n",
      " \n",
      " \n",
      " \n",
      " \n",
      " \n",
      " \n",
      " \n",
      "12월 결산(원,배,%) \n",
      " FY18 \n",
      " FY19 \n",
      " FY20 \n",
      " FY21 \n",
      " FY22 \n",
      " FY23E \n",
      " FY24E \n",
      " FY25E \n",
      "ROA(%) \n",
      "-0.2% \n",
      "0.1% \n",
      "0.5% \n",
      "0.7% \n",
      "0.7% \n",
      "0.8% \n",
      "0.9% \n",
      "1.0% \n",
      "ROE(%) \n",
      "-2.3% \n",
      "1.0% \n",
      "5.1% \n",
      "4.9% \n",
      "4.6% \n",
      "6.4% \n",
      "8.1% \n",
      "8.5% \n",
      "EPS(원) \n",
      "-31 \n",
      "34 \n",
      "277 \n",
      "430 \n",
      "552 \n",
      "805 \n",
      "1,103 \n",
      "1,254 \n",
      "BPS(원) \n",
      "1,687 \n",
      "4,098 \n",
      "6,828 \n",
      "11,620 \n",
      "12,203 \n",
      "13,009 \n",
      "14,112 \n",
      "15,366 \n",
      "PER(배) \n",
      "n.a \n",
      "n.a \n",
      "328.0 \n",
      "137.3 \n",
      "44.0 \n",
      "34.5 \n",
      "25.1 \n",
      "22.1 \n",
      "PBR(배) \n",
      "n.a \n",
      "n.a \n",
      "13.3 \n",
      "5.1 \n",
      "2.0 \n",
      "2.1 \n",
      "2.0 \n",
      "1.8 \n",
      "DPS(원) \n",
      "n.a \n",
      "n.a \n",
      "0 \n",
      "0 \n",
      "80 \n",
      "120 \n",
      "170 \n",
      "190 \n",
      "배당성향(%) \n",
      "n.a \n",
      "n.a \n",
      "n.a \n",
      "n.a \n",
      "14.5 \n",
      "15.0 \n",
      "15.0\n"
     ]
    }
   ],
   "source": [
    "print(docs[-1].page_content)"
   ]
  },
  {
   "cell_type": "code",
   "execution_count": null,
   "metadata": {},
   "outputs": [],
   "source": [
    "mmr_docs = db2.max_marginal_relevance_search(query, k=4, fetch_k=10)\n",
    "print(len(mmr_docs))\n",
    "print(mmr_docs[0].page_content)"
   ]
  },
  {
   "cell_type": "code",
   "execution_count": null,
   "metadata": {},
   "outputs": [],
   "source": [
    "print(mmr_docs[-1].page_content)"
   ]
  },
  {
   "cell_type": "markdown",
   "metadata": {},
   "source": [
    "## vectorstore에 메타데이터를 추가"
   ]
  },
  {
   "cell_type": "code",
   "execution_count": 16,
   "metadata": {},
   "outputs": [],
   "source": [
    "from langchain_core.documents import Document\n",
    "\n",
    "documents = [\n",
    "    Document(\n",
    "        page_content=\"LangChain은 대규모 언어 모델(LLM)을 사용하는 애플리케이션을 개발하기 위한 프레임워크입니다.\",\n",
    "        metadata={\n",
    "            \"title\": \"LangChain 소개\",\n",
    "            \"author\": \"AI 개발자\",\n",
    "            \"url\": \"http://example.com/langchain-intro\"\n",
    "        }\n",
    "    ),\n",
    "    Document(\n",
    "        page_content=\"벡터 데이터베이스는 고차원 벡터를 효율적으로 저장하고 검색하는 데 특화된 데이터베이스 시스템입니다.\",\n",
    "        metadata={\n",
    "            \"title\": \"벡터 데이터베이스 개요\",\n",
    "            \"author\": \"데이터 과학자\",\n",
    "            \"url\": \"http://example.com/vector-db-overview\"\n",
    "        }\n",
    "    )\n",
    "    # 추가 문서들...\n",
    "]"
   ]
  },
  {
   "cell_type": "code",
   "execution_count": 17,
   "metadata": {},
   "outputs": [],
   "source": [
    "from langchain_community.vectorstores import Chroma\n",
    "from langchain_openai import OpenAIEmbeddings\n",
    "\n",
    "# OpenAI 임베딩 모델 초기화\n",
    "embedding_model = OpenAIEmbeddings()\n",
    "\n",
    "# Chroma 벡터 스토어에 문서와 메타데이터 저장\n",
    "vectorstore = Chroma.from_documents(\n",
    "    documents=documents,\n",
    "    embedding=embedding_model,\n",
    "    persist_directory=\"./chroma_db\"  # 벡터 스토어를 디스크에 저장\n",
    ")"
   ]
  },
  {
   "cell_type": "code",
   "execution_count": 20,
   "metadata": {},
   "outputs": [
    {
     "name": "stdout",
     "output_type": "stream",
     "text": [
      "내용: 벡터 데이터베이스는 고차원 벡터를 효율적으로 저장하고 검색하는 데 특화된 데이터베이스 시스템입니다.\n",
      "제목: 벡터 데이터베이스 개요\n",
      "저자: 데이터 과학자\n",
      "URL: http://example.com/vector-db-overview\n",
      "---\n"
     ]
    }
   ],
   "source": [
    "query = \"데이터베이스란 무엇인가요?\"\n",
    "results = vectorstore.similarity_search(query, k=1)\n",
    "\n",
    "for doc in results:\n",
    "    print(f\"내용: {doc.page_content}\")\n",
    "    print(f\"제목: {doc.metadata['title']}\")\n",
    "    print(f\"저자: {doc.metadata['author']}\")\n",
    "    print(f\"URL: {doc.metadata['url']}\")\n",
    "    print(\"---\")"
   ]
  },
  {
   "cell_type": "markdown",
   "metadata": {},
   "source": [
    "# FAISS (Facebook AI Similarity Search)\n",
    "\n",
    "유사도 기준   \n",
    "- l2: 유클리디안 거리를 기준으로 함   \n",
    "- ip: 내적을 통해 방향성을 평가함\n",
    "- cosine: 코사인 유사도 기반\n"
   ]
  },
  {
   "cell_type": "code",
   "execution_count": 22,
   "metadata": {},
   "outputs": [
    {
     "data": {
      "text/plain": [
       "<langchain_community.vectorstores.faiss.FAISS at 0x138677210>"
      ]
     },
     "execution_count": 22,
     "metadata": {},
     "output_type": "execute_result"
    }
   ],
   "source": [
    "# 벡터스토어 db 인스턴스를 생성\n",
    "from langchain_community.vectorstores import FAISS\n",
    "from langchain_community.vectorstores.utils import DistanceStrategy\n",
    "from langchain_community.embeddings import HuggingFaceEmbeddings\n",
    "\n",
    "# 임베딩 모델 초기화하고\n",
    "embeddings_model = HuggingFaceEmbeddings(\n",
    "    model_name='jhgan/ko-sbert-nli',\n",
    "    model_kwargs={'device':'cpu'},\n",
    "    encode_kwargs={'normalize_embeddings':True},\n",
    ")\n",
    "\n",
    "\n",
    "vectorstore = FAISS.from_documents(documents,\n",
    "                                   embedding = embeddings_model,\n",
    "                                   distance_strategy = DistanceStrategy.COSINE\n",
    "                                  )\n",
    "vectorstore"
   ]
  },
  {
   "cell_type": "code",
   "execution_count": 23,
   "metadata": {},
   "outputs": [
    {
     "data": {
      "text/plain": [
       "<DistanceStrategy.COSINE: 'COSINE'>"
      ]
     },
     "execution_count": 23,
     "metadata": {},
     "output_type": "execute_result"
    }
   ],
   "source": [
    "vectorstore.distance_strategy"
   ]
  },
  {
   "cell_type": "code",
   "execution_count": 24,
   "metadata": {},
   "outputs": [
    {
     "name": "stdout",
     "output_type": "stream",
     "text": [
      "2\n",
      "LangChain은 대규모 언어 모델(LLM)을 사용하는 애플리케이션을 개발하기 위한 프레임워크입니다.\n"
     ]
    }
   ],
   "source": [
    "query = '카카오뱅크가 중대성 평가를 통해 도출한 6가지 중대 주제는 무엇인가?'\n",
    "docs = vectorstore.similarity_search(query)\n",
    "print(len(docs))\n",
    "print(docs[0].page_content)"
   ]
  },
  {
   "cell_type": "code",
   "execution_count": 25,
   "metadata": {},
   "outputs": [
    {
     "name": "stdout",
     "output_type": "stream",
     "text": [
      "2\n",
      "LangChain은 대규모 언어 모델(LLM)을 사용하는 애플리케이션을 개발하기 위한 프레임워크입니다.\n"
     ]
    }
   ],
   "source": [
    "mmr_docs = vectorstore.max_marginal_relevance_search(query, k=4, fetch_k=10)\n",
    "print(len(mmr_docs))\n",
    "print(mmr_docs[0].page_content)\n"
   ]
  },
  {
   "cell_type": "code",
   "execution_count": 26,
   "metadata": {},
   "outputs": [],
   "source": [
    "# save db\n",
    "vectorstore.save_local('./db/faiss')"
   ]
  },
  {
   "cell_type": "code",
   "execution_count": 28,
   "metadata": {},
   "outputs": [],
   "source": [
    "# load db\n",
    "db3 = FAISS.load_local('./db/faiss', embeddings_model, allow_dangerous_deserialization= True)\n"
   ]
  },
  {
   "cell_type": "code",
   "execution_count": null,
   "metadata": {},
   "outputs": [],
   "source": []
  }
 ],
 "metadata": {
  "kernelspec": {
   "display_name": "3.11.9",
   "language": "python",
   "name": "python3"
  },
  "language_info": {
   "codemirror_mode": {
    "name": "ipython",
    "version": 3
   },
   "file_extension": ".py",
   "mimetype": "text/x-python",
   "name": "python",
   "nbconvert_exporter": "python",
   "pygments_lexer": "ipython3",
   "version": "3.11.9"
  }
 },
 "nbformat": 4,
 "nbformat_minor": 2
}
