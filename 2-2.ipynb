{
 "cells": [
  {
   "cell_type": "markdown",
   "metadata": {},
   "source": [
    "## webBaseLoader"
   ]
  },
  {
   "cell_type": "code",
   "execution_count": 4,
   "metadata": {},
   "outputs": [
    {
     "data": {
      "text/plain": [
       "[Document(metadata={'source': 'https://blog.langchain.dev/customers-replit/'}, page_content='\\nReplit is at the forefront of AI innovation with its platform that simplifies writing, running, and collaborating on code for over 30+ million developers. They recently released Replit Agent, which immediately went viral due to the incredible applications people could easily create with this tool.Behind the scenes, Replit Agent has a complex workflow built on LangGraph, which enables a highly custom agentic workflow with a high-degree of control and parallel execution. A major benefit of using LangGraph was the seamless integration with LangSmith, which gave Replit deep visibility into their agent interactions to debug tricky issues.\\xa0The level of complexity required for Replit Agent also pushed the boundaries of LangSmith. The LangChain and Replit teams worked closely together to add functionality to LangSmith that would satisfy their LLM observability needs. Specifically, there were three main areas that we innovated on:Improved performance and scale on large tracesAbility to search and filter within tracesThread view to enable human-in-the loop workflowsImproved performance and scale on large tracesMost other LLMOps solutions monitor individual API requests to LLM providers, offering a limited view of single LLM calls. In contrast, LangSmith from day one has focused on tracing the entire execution flow of an LLM application to provide a more holistic context.\\xa0Tracing is important for agents due to their complex nature. It captures multiple LLM calls as well as other steps (retrieval, running code, etc). This gives you granular visibility into what’s happening, including at the inputs and outputs of each step, in order to understand the agent’s decision-making.\\xa0Replit Agent was a ripe example for advanced tracing needs. Their agentic tool goes beyond simply reviewing and writing code, but also performs a wider range of functions – including planning, creating dev environments, installing dependencies, and deploying applications for users.\\xa0As a result, Replit’s traces were very large - involving hundreds of steps. This posed significant challenges for ingesting data and displaying it in a visually meaningful way.To address this, the LangChain team improved their ingestion to efficiently process and store large volumes of trace data. They also improved LangSmith’s frontend rendering to display long-running agent traces seamlessly.Search and filter within traces to pinpoint issuesLangSmith has always supported search between traces, which allows users to find a single trace among hundreds of thousands based on events or full text search. But as Replit Agent’s traces got longer and longer, the Replit team needed to search within traces for specific events (oftentimes issues reported by alpha testers). This required augmenting existing search capabilities.In response, a new search pattern – searching within traces – was added to LangSmith. Instead of sifting and scrolling call-by-call within a large trace, users could now filter directly on a criteria they cared about (e.g. keywords in the inputs or outputs of a run). This greatly reduced Replit’s time needed to debug agent steps within a trace.Thread view to enable human-in-the-loop workflowsA key differentiator of Replit Agent was its emphasis on human-in-the-loop workflows. Replit Agent intends to be a tool where AI agents can collaborate effectively with human developers, who can come in and edit and correct agent trajectories as needed.With separate agents to perform roles like managing, editing, and verifying generated code,\\xa0 Replit’s agents interacted with users continuously - often over long periods with multiple turns of conversation. However, monitoring these conversational flows was often difficult, as each user session would generate disjoint traces.\\xa0To solve this, LangSmith’s thread view helped collate traces from multiple threads together that were related (i.e. from one conversation). This provided a logical view of all agent-user interactions across a multi-turn conversation, helping Replit better 1) find bottlenecks where users got stuck and 2) pinpoint areas where human intervention could be beneficial.\\xa0ConclusionReplit is pushing the frontier of AI agent monitoring using LangSmith’s powerful observability features. By reducing the effort of loading long, heavy traces, the Replit team has greatly sped up the process of building and scaling complex agents. With faster debugging, improved trace visibility, and better handling of parallel tasks, Replit is setting the standard for AI-driven development.\\t\\n'),\n",
       " Document(metadata={'source': 'https://blog.langchain.dev/langgraph-v0-2/'}, page_content=\"\\nToday, we’re excited to announce the stable release of LangGraph v0.2, which introduces a new ecosystem of LangGraph checkpointer libraries. These simplify the creation and customization of checkpointers, which allows users to build more resilient LLM applications with smooth session memory, robust error recovery, and human-in-the-loop features.Why we built LangGraph v0.2One of the key pillars of LangGraph is its built-in persistence layer, implemented through checkpointers. When you use a checkpointer with a graph, you can interact with and manage the graph's state. The checkpointer saves a checkpoint of the graph state at each step, enabling several powerful capabilities, including:Session memory: Store history (checkpoints) of user interactions and resume from a saved checkpoint in follow up interactionsError recovery: Recover from failures at any given step in the graph execution by continuing from the last successful step checkpointHuman-in-the-loop: Implement tool approval, wait for human input, edit agent actions and moreTime travel: Edit graph state at any point in the history of execution and create an alternative execution from that point in time (i.e. fork the thread)Since the early days of LangGraph, we’ve designed checkpointing to be database-agnostic, allowing users to implement their own checkpointer adapters for their database of choice.Since the LangGraph v0.1 release, we've seen a lot of interest from the community in creating checkpointers for many popular databases like Postgres, Redis, and MongoDB. However, there was no clear blueprint for the users to implement their own, custom checkpointers.New checkpointer libraries in LangGraphWith LangGraph v0.2, we’re making it easier to create new checkpointers. We’ve also laid the foundation to foster a community-maintained ecosystem of checkpointer implementations.We now have a suite of new, dedicated checkpointer libraries:langgraph_checkpoint : The base interface for checkpointer savers (BaseCheckpointSaver ) and serialization/deserialization interface (SerializationProtocol). Includes in-memory checkpointer implementation (MemorySaver) for experimentation.langgraph_checkpoint_sqlite : An implementation of LangGraph checkpointer that uses SQLite database. Ideal for experimentation and local workflows.langgraph_checkpoint_postgres : Our advanced checkpointer that we wrote and optimized for Postgres in LangGraph Cloud is now open-sourced and available to the community to build upon. Ideal for using in production.Checkpointer implementations can be used interchangeably, which lets users tailor their stateful LangGraph applications to their custom needs.LangGraph Postgres Checkpointer for production-ready appslanggraph_checkpoint_postgres implementation can serve as a blueprint for community members to implement their own optimized, production-ready checkpointers for their favorite database. Postgres checkpointer implements a number of optimizations both on the write-, as well as read-side.Write-side optimizations:We're making use of Postgres pipeline mode to reduce database roundtripsWe're storing each channel value separately and versioned so that each new checkpoint only stores the values that changed.Read-side optimizations:We're making use of a cursor for the list endpoint in order to efficiently fetch long thread histories when needed.Getting started on LangGraph v0.2Since LangGraph checkpointer libraries are implemented as namespace packages, you can import checkpointer interfaces and implementations the same way as before, using:from langgraph.checkpoint.base import BaseCheckpointSaverfrom langgraph.checkpoint.memory import MemorySaverfrom langgraph.checkpoint.sqlite import SqliteSaverfrom langgraph.checkpoint.postgres import PostgresSaverSince SQLite and Postgres checkpointers are provided via separate libraries, you will need to install them using pip install langgraph-checkpoint-sqlite or pip install langgraph-checkpoint-postgres.LangGraph checkpoint libraries will follow semantic versioning (starting with current release of 1.0), and any breaking changes in the main library will result in a major version bump for those libraries. For example, the next breaking change in langgraph_checkpoint will result in 2.0 version, and you can expect the checkpointer implementations (e.g.,langgraph_checkpoint_sqlite) to also be updated to 2.0 to follow that change.To get started, follow this guide on how to use checkpointers in LangGraph. You can also check out our documentation, including a reference and overview of checkpointers. Run agents at scale with LangGraph CloudTo complement the LangGraph framework, we also have a new runtime, LangGraph Cloud, which provides infrastructure purpose-built for deploying agents at scale.LangGraph Cloud does the heavy lifting for your agentic application, removing the maintenance work for custom checkpointers while adding fault-tolerant scalability. It gracefully manages horizontally-scaling task queues, servers, and includes our robust Postgres checkpointer out-of-the-box to help you handle many concurrent users and efficiently store large states and threads.In addition, LangGraph Cloud supports real-world interaction patterns beyond streaming and human-in-the-loop. These include double-texting to handle new user inputs on currently-running threads of the graph, async background jobs for long-running tasks, and cron jobs.Lastly, you can easily deploy your agentic app and collaborate in LangGraph Studio, a playground-like space for visualizing and debugging agent trajectories, with LangGraph Cloud. The LangGraph Studio desktop app is now also available for all LangSmith users to try for free.LangGraph Cloud is now available in beta for all LangSmith users on Plus or Enterprise plans. Try it out today for free by signing up for LangSmith.Additional changes in LangGraph v0.2LangGraph v0.2 contains many improvements, and we've designed it to be largely backwards compatible. Below is a list of breaking changes and deprecations in this latest version.Breaking changesLangGraph v0.2 introduces several breaking changes:thread_ts and parent_ts have been renamed to checkpoint_id and parent_checkpoint_id , respectively (via langgraph_checkpoint==1.0.0).Note: LangGraph checkpointers still recognize thread_ts if passed via config and treat it as checkpoint_idRe-exported imports like from langgraph.checkpoint import BaseCheckpointSaver are no longer possible due to the use of namespace packages. Instead, use from langgraph.checkpoint.base import BaseCheckpointSaverSQLite checkpointers have been moved to a separate library, so you’ll need to install them separately using pip install langgraph-checkpoint-sqliteDeprecationsIn LangGraph v0.2, we've removed:langgraph.prebuilt.chat_agent_executor.create_function_calling_executor . We recommend you use langgraph.prebuilt.chat_agent_executor.create_react_agent instead.langgraph.prebuilt.agent_executor . We recommend you use langgraph.prebuilt.chat_agent_executor.create_react_agent instead.ConclusionWe are incredibly grateful to our community and users for pushing us and building with LangGraph to improve agent reliability. We hope that with LangGraph v0.2, you’ll find it easier to build and maintain your own checkpointer implementations– and we’re excited to see all the apps that you create.As you try out LangGraph v0.2, we'd love to hear your feedback at hello@langchain.dev. You can also learn more from these additional resources:LangGraph docsLangGraph webpage (with FAQs)\\n\")]"
      ]
     },
     "execution_count": 4,
     "metadata": {},
     "output_type": "execute_result"
    }
   ],
   "source": [
    "import bs4\n",
    "from langchain_community.document_loaders import WebBaseLoader\n",
    "\n",
    "# 여러 개의 url 지정 가능\n",
    "url1 = \"https://blog.langchain.dev/customers-replit/\"\n",
    "url2 = \"https://blog.langchain.dev/langgraph-v0-2/\"\n",
    "\n",
    "loader = WebBaseLoader(\n",
    "    web_paths=(url1, url2), # 두 가지 경로를 설정\n",
    "    bs_kwargs=dict(\n",
    "        parse_only=bs4.SoupStrainer(\n",
    "            class_=(\"article-header\", \"article-content\") # 특정 갈래만 가져온다\n",
    "            # class_=(\"article-header\") # 특정 갈래만 가져온다\n",
    "        )\n",
    "    ),\n",
    ")\n",
    "docs = loader.load()\n",
    "docs"
   ]
  },
  {
   "cell_type": "code",
   "execution_count": 5,
   "metadata": {},
   "outputs": [
    {
     "name": "stdout",
     "output_type": "stream",
     "text": [
      "2\n",
      "page_content='\n",
      "Replit is at the forefront of AI innovation with its platform that simplifies writing, running, and collaborating on code for over 30+ million developers. They recently released Replit Agent, which immediately went viral due to the incredible applications people could easily create with this tool.Behind the scenes, Replit Agent has a complex workflow built on LangGraph, which enables a highly custom agentic workflow with a high-degree of control and parallel execution. A major benefit of using LangGraph was the seamless integration with LangSmith, which gave Replit deep visibility into their agent interactions to debug tricky issues. The level of complexity required for Replit Agent also pushed the boundaries of LangSmith. The LangChain and Replit teams worked closely together to add functionality to LangSmith that would satisfy their LLM observability needs. Specifically, there were three main areas that we innovated on:Improved performance and scale on large tracesAbility to search and filter within tracesThread view to enable human-in-the loop workflowsImproved performance and scale on large tracesMost other LLMOps solutions monitor individual API requests to LLM providers, offering a limited view of single LLM calls. In contrast, LangSmith from day one has focused on tracing the entire execution flow of an LLM application to provide a more holistic context. Tracing is important for agents due to their complex nature. It captures multiple LLM calls as well as other steps (retrieval, running code, etc). This gives you granular visibility into what’s happening, including at the inputs and outputs of each step, in order to understand the agent’s decision-making. Replit Agent was a ripe example for advanced tracing needs. Their agentic tool goes beyond simply reviewing and writing code, but also performs a wider range of functions – including planning, creating dev environments, installing dependencies, and deploying applications for users. As a result, Replit’s traces were very large - involving hundreds of steps. This posed significant challenges for ingesting data and displaying it in a visually meaningful way.To address this, the LangChain team improved their ingestion to efficiently process and store large volumes of trace data. They also improved LangSmith’s frontend rendering to display long-running agent traces seamlessly.Search and filter within traces to pinpoint issuesLangSmith has always supported search between traces, which allows users to find a single trace among hundreds of thousands based on events or full text search. But as Replit Agent’s traces got longer and longer, the Replit team needed to search within traces for specific events (oftentimes issues reported by alpha testers). This required augmenting existing search capabilities.In response, a new search pattern – searching within traces – was added to LangSmith. Instead of sifting and scrolling call-by-call within a large trace, users could now filter directly on a criteria they cared about (e.g. keywords in the inputs or outputs of a run). This greatly reduced Replit’s time needed to debug agent steps within a trace.Thread view to enable human-in-the-loop workflowsA key differentiator of Replit Agent was its emphasis on human-in-the-loop workflows. Replit Agent intends to be a tool where AI agents can collaborate effectively with human developers, who can come in and edit and correct agent trajectories as needed.With separate agents to perform roles like managing, editing, and verifying generated code,  Replit’s agents interacted with users continuously - often over long periods with multiple turns of conversation. However, monitoring these conversational flows was often difficult, as each user session would generate disjoint traces. To solve this, LangSmith’s thread view helped collate traces from multiple threads together that were related (i.e. from one conversation). This provided a logical view of all agent-user interactions across a multi-turn conversation, helping Replit better 1) find bottlenecks where users got stuck and 2) pinpoint areas where human intervention could be beneficial. ConclusionReplit is pushing the frontier of AI agent monitoring using LangSmith’s powerful observability features. By reducing the effort of loading long, heavy traces, the Replit team has greatly sped up the process of building and scaling complex agents. With faster debugging, improved trace visibility, and better handling of parallel tasks, Replit is setting the standard for AI-driven development.\t\n",
      "' metadata={'source': 'https://blog.langchain.dev/customers-replit/'}\n"
     ]
    }
   ],
   "source": [
    "print(len(docs))\n",
    "print(docs[0])"
   ]
  },
  {
   "cell_type": "markdown",
   "metadata": {},
   "source": [
    "## TextLoader"
   ]
  },
  {
   "cell_type": "code",
   "execution_count": 6,
   "metadata": {},
   "outputs": [
    {
     "name": "stdout",
     "output_type": "stream",
     "text": [
      "<class 'list'>\n",
      "1\n"
     ]
    }
   ],
   "source": [
    "from langchain_community.document_loaders import TextLoader\n",
    "\n",
    "loader = TextLoader('history.txt')\n",
    "data = loader.load()\n",
    "\n",
    "print(type(data))\n",
    "print(len(data))"
   ]
  },
  {
   "cell_type": "code",
   "execution_count": 7,
   "metadata": {},
   "outputs": [
    {
     "data": {
      "text/plain": [
       "[Document(metadata={'source': 'history.txt'}, page_content='한국의 역사는 수천 년에 걸쳐 이어져 온 긴 여정 속에서 다양한 문화와 전통이 형성되고 발전해 왔습니다. 고조선에서 시작해 삼국 시대의 경쟁, 그리고 통일 신라와 고려를 거쳐 조선까지, 한반도는 많은 변화를 겪었습니다.\\n\\n고조선은 기원전 2333년 단군왕검에 의해 세워졌다고 전해집니다. 이는 한국 역사상 최초의 국가로, 한민족의 시원이라 할 수 있습니다. 이후 기원전 1세기경에는 한반도와 만주 일대에서 여러 소국이 성장하며 삼한 시대로 접어듭니다.\\n\\n4세기경, 고구려, 백제, 신라의 삼국이 한반도의 주요 세력으로 부상했습니다. 이 시기는 삼국이 각각 문화와 기술, 무력을 발전시키며 경쟁적으로 성장한 시기로, 한국 역사에서 중요한 전환점을 마련했습니다. 특히 고구려는 북방의 강대국으로 성장하여 중국과도 여러 차례 전쟁을 벌였습니다.\\n\\n7세기 말, 신라는 당나라와 연합하여 백제와 고구려를 차례로 정복하고, 한반도 최초의 통일 국가인 통일 신라를 건립합니다. 이 시기에 신라는 불교를 국교로 채택하며 문화와 예술이 크게 발전했습니다.\\n\\n그러나 10세기에 이르러 신라는 내부의 분열과 외부의 압력으로 쇠퇴하고, 이를 대체하여 고려가 성립됩니다. 고려 시대에는 과거제도의 도입과 더불어 청자 등 고려 고유의 문화가 꽃피었습니다.\\n\\n조선은 1392년 이성계에 의해 건국되어, 1910년까지 이어졌습니다. 조선 초기에는 세종대왕이 한글을 창제하여 백성들의 문해율을 높이는 등 문화적, 과학적 성취가 이루어졌습니다. 그러나 조선 후기에는 내부적으로 실학의 발전과 함께 사회적 변화가 모색되었으나, 외부로부터의 압력은 점차 커져만 갔습니다.\\n\\n19세기 말부터 20세기 초에 걸쳐 한국은 제국주의 열강의 침략을 받으며 많은 시련을 겪었습니다. 1910년, 한국은 일본에 의해 강제로 병합되어 35년간의 식민 지배를 받게 됩니다. 이 기간 동안 한국인들은 독립을 위한 다양한 운동을 전개했으며, 이는 1945년 일본의 패망으로 이어지는 독립으로 결실을 맺었습니다.\\n\\n해방 후 한반도는 남북으로 분단되어 각각 다른 정부가 수립되었고, 1950년에는 한국전쟁이 발발하여 큰 피해를 입었습니다. 전쟁 후 남한은 빠른 경제 발전을 이루며 오늘날에 이르렀습니다.\\n\\n한국의 역사는 오랜 시간 동안 수많은 시련과 도전을 겪으며 형성된 깊은 유산을 지니고 있습니다. 오늘날 한국은 그 역사적 배경 위에서 세계적으로 중요한 역할을 하고 있으며, 과거의 역사가 현재와 미래에 어떻게 영향을 미치는지를 이해하는 것은 매우 중요합니다.')]"
      ]
     },
     "execution_count": 7,
     "metadata": {},
     "output_type": "execute_result"
    }
   ],
   "source": [
    "data"
   ]
  },
  {
   "cell_type": "code",
   "execution_count": 8,
   "metadata": {},
   "outputs": [
    {
     "data": {
      "text/plain": [
       "1234"
      ]
     },
     "execution_count": 8,
     "metadata": {},
     "output_type": "execute_result"
    }
   ],
   "source": [
    "len(data[0].page_content)"
   ]
  },
  {
   "cell_type": "code",
   "execution_count": 9,
   "metadata": {},
   "outputs": [
    {
     "data": {
      "text/plain": [
       "{'source': 'history.txt'}"
      ]
     },
     "execution_count": 9,
     "metadata": {},
     "output_type": "execute_result"
    }
   ],
   "source": [
    "data[0].metadata"
   ]
  },
  {
   "cell_type": "markdown",
   "metadata": {},
   "source": [
    "## 디렉토리 폴더"
   ]
  },
  {
   "cell_type": "code",
   "execution_count": 10,
   "metadata": {},
   "outputs": [
    {
     "data": {
      "text/plain": [
       "['./history.txt', './places.txt']"
      ]
     },
     "execution_count": 10,
     "metadata": {},
     "output_type": "execute_result"
    }
   ],
   "source": [
    "import os\n",
    "from glob import glob\n",
    "\n",
    "files = glob(os.path.join('./', '*.txt'))\n",
    "files"
   ]
  },
  {
   "cell_type": "markdown",
   "metadata": {},
   "source": [
    "이와 같은 작업을 langchain_community.document_loaders의 DirectoryLoader 클래스를 사용하여 수행할 수 있습니다. DirectoryLoader는 지정된 경로와 glob 패턴에 맞는 파일을 찾아서 로드합니다.\n",
    "\n",
    "len(data)는 로드된 데이터의 길이, 즉 .txt 파일의 개수를 반환합니다. 이는 DirectoryLoader가 지정된 패턴에 맞는 모든 파일을 로드하고, 각 파일의 내용을 리스트의 각 항목으로 저장하기 때문입니다."
   ]
  },
  {
   "cell_type": "code",
   "execution_count": 11,
   "metadata": {},
   "outputs": [
    {
     "data": {
      "text/plain": [
       "2"
      ]
     },
     "execution_count": 11,
     "metadata": {},
     "output_type": "execute_result"
    }
   ],
   "source": [
    "from langchain_community.document_loaders import DirectoryLoader\n",
    "\n",
    "loader = DirectoryLoader(path='./', glob='*.txt', loader_cls=TextLoader)\n",
    "\n",
    "data = loader.load()\n",
    "\n",
    "len(data)"
   ]
  },
  {
   "cell_type": "code",
   "execution_count": 13,
   "metadata": {},
   "outputs": [
    {
     "data": {
      "text/plain": [
       "Document(metadata={'source': 'places.txt'}, page_content='경복궁\\n서울의 중심에 위치한 경복궁은 조선 시대의 왕궁으로, 한국의 역사와 전통 문화를 체험할 수 있는 대표적인 명소입니다. 광활한 궁궐 안에는 경회루, 근정전 등 다양한 전통 건축물이 있으며, 정기적으로 궁궐 경비 교대식과 전통 공연이 열립니다.\\n\\n남산 서울타워\\n서울의 스카이라인을 대표하는 남산 서울타워는 서울 시내를 한눈에 볼 수 있는 최고의 전망대입니다. 타워 주변의 남산 공원은 산책과 휴식을 즐기기에 적합하며, 연인들의 자물쇠 벽도 유명합니다.\\n\\n부산 해운대 해수욕장\\n부산의 해운대 해수욕장은 국내외 관광객에게 사랑받는 한국 최대의 해수욕장 중 하나입니다. 넓은 백사장과 도심 속의 접근성이 좋은 위치로, 여름철에는 수많은 피서객으로 붐빕니다.\\n\\n제주도\\n한국의 남쪽에 위치한 제주도는 화산섬으로, 아름다운 자연 풍경과 독특한 문화를 자랑합니다. 세계 자연 유산에 등재된 한라산, 청정 해변, 용두암 등 다양한 자연 명소와 함께 특색 있는 음식과 문화가 관광객을 맞이합니다.\\n\\n경주\\n신라 천년의 고도 경주는 한국의 역사적인 도시 중 하나로, 불국사, 석굴암, 첨성대 등 수많은 유적지와 문화재가 있습니다. 신라의 역사와 문화를 체험할 수 있는 최적의 장소입니다.\\n\\n인사동\\n서울의 인사동은 전통 찻집, 공예품 가게, 갤러리가 즐비한 문화 예술의 거리입니다. 한국의 전통 문화와 현대 예술이 공존하는 이곳에서는 다양한 기념품을 구입하고 전통 차를 맛볼 수 있습니다.\\n\\n한강\\n서울을 가로지르는 한강은 도시의 휴식처로, 한강공원, 자전거 도로, 피크닉 장소 등을 제공합니다. 야경이 아름다운 한강에서는 다양한 레저 활동과 행사가 열리며, 여름에는 불꽃놀이 축제가 인기입니다.\\n\\n순천만 국가정원\\n전라남도 순천에 위치한 순천만 국가정원은 다양한 식물과 아름다운 정원이 조화를 이루는 곳으로, 자연과 함께하는 힐링의 시간을 제공합니다. 인근의 순천만 습지는 천연 기념물로 지정된 생태 관광지입니다.')"
      ]
     },
     "execution_count": 13,
     "metadata": {},
     "output_type": "execute_result"
    }
   ],
   "source": [
    "data[1]"
   ]
  },
  {
   "cell_type": "markdown",
   "metadata": {},
   "source": [
    "## CSVLoader"
   ]
  },
  {
   "cell_type": "code",
   "execution_count": 14,
   "metadata": {},
   "outputs": [
    {
     "data": {
      "text/plain": [
       "143"
      ]
     },
     "execution_count": 14,
     "metadata": {},
     "output_type": "execute_result"
    }
   ],
   "source": [
    "from langchain_community.document_loaders.csv_loader import CSVLoader\n",
    "\n",
    "loader = CSVLoader(file_path='한국주택금융공사_주택금융관련_지수_20160101.csv', encoding='cp949')\n",
    "data = loader.load()\n",
    "\n",
    "len(data)"
   ]
  },
  {
   "cell_type": "code",
   "execution_count": 15,
   "metadata": {},
   "outputs": [
    {
     "data": {
      "text/plain": [
       "Document(metadata={'source': '한국주택금융공사_주택금융관련_지수_20160101.csv', 'row': 0}, page_content='연도: 2004-01-01\\n전국소득대비 주택가격 비율: 4.21\\n서울소득대비 주택가격 비율: 4.89\\n부산소득대비 주택가격 비율: 3.95\\n대구소득대비 주택가격 비율: 3.73\\n인천소득대비 주택가격 비율: 4.65\\n광주소득대비 주택가격 비율: 2.81\\n대전소득대비 주택가격 비율: 4.68\\n울산소득대비 주택가격 비율: 2.66\\n세종소득대비 주택가격 비율: 0\\n경기소득대비 주택가격 비율: 4.17\\n강원소득대비 주택가격 비율: 2.49\\n충북소득대비 주택가격 비율: 2.62\\n충남소득대비 주택가격 비율: 2.17\\n전북소득대비 주택가격 비율: 3.12\\n전남소득대비 주택가격 비율: 2.12\\n경북소득대비 주택가격 비율: 2.12\\n경남소득대비 주택가격 비율: 3.81\\n제주소득대비 주택가격 비율: 2.99\\n전국평균 대출금액  평균 연소득: 2.36\\n서울평균 대출금액  평균 연소득: 2.61\\n부산평균 대출금액  평균 연소득: 2.35\\n대구평균 대출금액  평균 연소득: 2.24\\n인천평균 대출금액  평균 연소득: 2.7\\n광주평균 대출금액  평균 연소득: 1.6\\n대전평균 대출금액  평균 연소득: 2.26\\n울산평균 대출금액  평균 연소득: 1.67\\n세종평균 대출금액  평균 연소득: 0\\n경기평균 대출금액  평균 연소득: 2.42\\n강원평균 대출금액  평균 연소득: 1.44\\n충북평균 대출금액  평균 연소득: 1.53\\n충남평균 대출금액  평균 연소득: 1.21\\n전북평균 대출금액  평균 연소득: 1.9\\n전남평균 대출금액  평균 연소득: 1.42\\n경북평균 대출금액  평균 연소득: 1.31\\n경남평균 대출금액  평균 연소득: 2.06\\n제주평균 대출금액  평균 연소득: 1.28')"
      ]
     },
     "execution_count": 15,
     "metadata": {},
     "output_type": "execute_result"
    }
   ],
   "source": [
    "data[0]"
   ]
  },
  {
   "cell_type": "markdown",
   "metadata": {},
   "source": [
    "## PyPDFLoader"
   ]
  },
  {
   "cell_type": "code",
   "execution_count": 1,
   "metadata": {},
   "outputs": [
    {
     "data": {
      "text/plain": [
       "21"
      ]
     },
     "execution_count": 1,
     "metadata": {},
     "output_type": "execute_result"
    }
   ],
   "source": [
    "from langchain_community.document_loaders import PyPDFLoader\n",
    "\n",
    "pdf_filepath = '000660_SK_2023.pdf'\n",
    "loader = PyPDFLoader(pdf_filepath)\n",
    "pages = loader.load() # 요 파일을 한번 읽어봅시다 그냥\n",
    "\n",
    "len(pages) "
   ]
  },
  {
   "cell_type": "code",
   "execution_count": 2,
   "metadata": {},
   "outputs": [
    {
     "data": {
      "text/plain": [
       "[Document(metadata={'source': '000660_SK_2023.pdf', 'page': 0}, page_content='1\\nWhere we are heading    |     How we get there    |     What we are preparing\\nESG Special Report\\n2023 \\nNAVIGATING \\nUNCERTAINTIES TO ENSURE  \\nSUSTAINABLE \\nGROWTH'),\n",
       " Document(metadata={'source': '000660_SK_2023.pdf', 'page': 1}, page_content='24\\nAdvanced Materials\\nGreen\\nBio\\nDigital \\nExpanding Our Portfolio’s Green Readiness\\nResponsible & Profitable Low Carbon Transition\\nNet Zero: Team Up In Action \\n26\\n27\\n28\\n29\\n30\\n32\\n36\\n다가올 상승기의 성장 기회 극대화를 위한 신성장 전략 \\nWHAT WE ARE PREPARING\\nContents\\n4\\n14\\nOur Leadership\\nOur History\\nOur Journey\\nOur Portfolio and Performances \\n6\\n8\\n10\\n12\\n지난 70년을 넘어 지속가능한 성장을 위한 투자전문회사로의 변화\\n불확실성의 시대, 생존역량과 회복력 확보를 위한 노력\\nWHERE WE ARE HEADING\\nHOW WE GET THERE\\nRenewing Our Management System  \\nPortfolio Management Framework\\nEnduring Downturn & \\nDealing with Unknown Risks\\n16\\n18\\n22'),\n",
       " Document(metadata={'source': '000660_SK_2023.pdf', 'page': 2}, page_content='54\\nESG Special Report 2023 Where we are heading    |     How we get there    |     What we are preparing\\nOur Our Leadership\\nOur History\\nOur Journey\\nOur Portfolio and Performances\\n6\\n8\\n10\\n12\\n지난 70년을 넘어 지속가능한 성장을 위한 투자전문회사로의 변화   \\nSK는 올해로 창립 70주년을 맞이했습니다.\\n한국 전쟁 이후 대한민국 현대사의 발전과 함께 해온 SK의 역사는 \\n한국경제가 지나온 빛나는 발걸음입니다. 패기로 묻고 지성으로 답하며 \\n개척해 온 그 시간을 지나, SK는 대한민국을 대표하는 글로벌 기업으로 \\n성장했습니다. 이제는 선배 경영인들이 물려준 정신적 유산을 \\n새로운 시대에 어떻게 창의적으로 해석하고 적용하여 미래 세대의 \\n지속성장을 향한 길을 개척해 나갈 것인지가 관건이라고 생각합니다.\\n경영체계를 새로이 하고 다음 세대에게 무엇을 물려줄 것인가를 고민하는 \\n그 과정이 앞으로의 100년을 움직일 수 있는 또 하나의 초석이 될 것입니다. \\n산업화 시대에 ‵섬유에서 석유′로, 정보화 시대에 ‵통신에서 반도체′로 \\n한국사회에 기여해 온 것처럼, 오늘날 세계의 많은 문제를 함께 고민하고 \\n해결해 나가며 인류의 더 나은 내일에 기여할 수 있는 기업이 되고자 합니다.\\nWHERE WE \\nARE HEADING'),\n",
       " Document(metadata={'source': '000660_SK_2023.pdf', 'page': 3}, page_content='76\\nESG Special Report 2023 Where we are heading    |     How we get there    |     What we are preparing\\n최태원 \\nSK주식회사 대표이사 회장\\n장동현  \\nSK주식회사 대표이사 부회장 \\n“  지구와 사회가 직면한 문제에 \\n해결책을 제시하는 기업이 인류의 \\n선택을 받게 될 것입니다. ”\\n“  불확실한 경제상황에도  \\n흔들리지 않는 생존역량을 \\n강화해 나가겠습니다. ”\\n“ 이제 또 한 번 SK주식회사만의 \\n길을 찾아 성장해야 합니다. \\n불확실한 경제상황에도 흔들리지 않는 \\n생존역량을 강화하고, 수많은 변화 \\n속에서 발생하는 성장 기회를 적시에 \\n선점할 수 있도록 준비해야 합니다.\\n시장이 어떻게 움직이는가를 \\n미리 예측하여 사전 대응한 우리에게는 \\n더 좋은 기회가 올 것을 확신합니다. “\\n“ 다시 평범한 일상이 돌아오고 있는 \\n지금, 우리는 4대 핵심 사업 영역인 \\n첨단소재, 그린, 바이오, 디지털에서 \\n변화하는 흐름을 날카롭게 분석하고 \\n성장기회를 빠르게 쟁취할 것입니다. \\n2023년에는 투자 포트폴리오의 수익을 \\n실현하고 유망 영역에 재투자하는 \\n선순환 구조를 더욱 활성화하고 주력 \\n비상장사들의 실적 성장을 가속화하여, \\n투자 전문회사로서의 성장에 대한 \\n시장의 신뢰와 지지를 높여 나가고자 \\n합니다. ”\\n“ 투자한 회사들이 더 높은 기업가치를\\n가질 수 있도록 2023년에는 투자\\n포트폴리오의 책임과 권한을 다시\\n살펴야 할 때입니다. ESG는 더 이상 \\n개념적 측면이 아닌 SK주식회사의 \\n의사결정과 행동, 포트폴리오 관리에 \\n반드시 반영되어야 하는 필수 요소이자\\n기회입니다. ”\\n“ 지구와 사람, 그리고 사람과 사람 사이의 \\n관계에 대한 문제는 어떤 어려움이 \\n있더라도 풀어야 할 숙제입니다. \\n그 문제에 솔루션을 제시하는 기업은 \\n어떤 변수가 있더라도 결국 인류의 \\n선택을 받게 될 것입니다. ”\\n“ 최근 우리는 다양한 글로벌 활동을 \\n통해 세계의 다차원적 위기를 절감할 수 \\n있었습니다. 지정학적 갈등이 경제적 \\n혼란을 초래하고, 기후위기라는 엄중한 \\n파고가 전 세계를 위협하는 이때, \\nSK는 전략적 유연성에 기반한 보다 \\n창조적인 도전을 준비하고 있습니다. ”\\n“ 올 해 경영환경도 쉽지 않을 것으로 \\n예상되지만, SK의 역사를 뒤돌아보면 \\n고난을 극복한 뒤에는 더 큰 도약이 \\n있었습니다. ”\\nOUR LEADERSHIP '),\n",
       " Document(metadata={'source': '000660_SK_2023.pdf', 'page': 4}, page_content=\"98\\nESG Special Report 2023 Where we are heading    |     How we get there    |     What we are preparing\\n1953\\n최종건 창업회장, \\n한국전쟁 직후의 \\n폐허 속에서 \\n선경직물 창업\\n1968\\n섬유사업 수직계열화의 \\n꿈을 위한 첫 단추,\\n아세테이트 \\n원사 공장 설립 \\n워커힐 호텔 인수\\n섬유사업을 넘어 \\n사업 다각화를 위한 \\n원대한 비전 실현\\n1994\\n10년간의 준비 끝에 \\n한국이동통신 인수\\n1997\\nIMF 구제금융 경제위기\\n외환위기 이전인 '95년부터\\n진행된 빠른 구조조정 및\\n석유, 통신업의 높은 안정성과\\n성장성을 바탕으로 하방리스크 \\n해소, 새로운 도약 준비\\n1998\\n글로벌 시대에 걸맞은 \\n새로운 CI, SK 선포\\n최태원 SK주식회사\\n대표이사 회장 선임\\n1999\\n외환위기에 불구하고  \\nSK텔레콤 성장세 지속, \\n신세기통신 인수로 \\n시장점유율 1위 \\n사업자 등극\\n2008\\n글로벌 금융위기\\n제 3의 퀀텀 점프를 위한 \\n새로운 성장축 모색에 박차\\n1973\\n제 1차 석유파동\\n지정학적 위기와 \\n석유파동으로 \\n사업 존폐위기 직면 \\n1979\\n제 2차 석유파동\\n최종현 회장, 사우디로부터 3년간 \\n장기·저가 원유공급 계약 확보로 \\n그룹 위기 타개\\n1950 1960 1970 1980 1990 2000\\n한국전쟁의 폐허 속에서 선경직물을 창업한 1953년, \\nSK의 역사가 시작되었습니다. SK의 역사는 끊임없이 \\n도전하고 위기를 극복해낸 거대한 성장의 과정입니다. \\n창립 이래 70년의 시간동안 SK는 글로벌 지정학적 리스크와 \\nIMF 사태, 금융위기 등 어려운 시기를 직면하였으나, 때마다 \\n불확실성을 슬기롭게 극복하고 위기를 기회로 전환하는 \\n저력으로 지금의 SK를 있게 한 중요한 성장 모멘텀들을 확보해 \\n왔습니다. 미래를 내다보는 혜안, 위기의 순간에 발휘되는 \\n전화위복의 정신, 그리고 강인한 패기와 탁월한 지성으로 \\n더 나은 세상을 꿈꾸었던 선대 경영인의 DNA는 오늘날의 \\nSK가 가진 경쟁력으로 자리매김하였습니다. SK는 기업의 \\n숙명은 챔피언이 아니라 ‘도전자’가 되는 것이라는 신념으로, \\n위대한 도전정신과 함께 미래를 앞서가는 새로운 시간의 \\n프런티어가 되겠습니다. \\n1980\\n대한석유공사 인수\\n장기적·안정적 원유 확보 능력 \\n입증으로 입찰 성공 \\n그룹의 위기상황을 체질개선과 \\n도약의 기회로 삼아, 석유에서 \\n섬유까지 수직계열화 완성\\n2012\\nSK하이닉스 인수\\n내수기반에서 수출지향형 \\n글로벌 기업으로 탈바꿈\\nQR코드를 스캔하면 변화와 혁신으로 \\n성장한 70년의 SK의 역사를 자세히 \\n확인하실 수 있습니다. \\n최종현 회장 취임, \\n‘SKMS’* 정립\\nSK의 경영 바이블이자 \\n고유 기업문화로 정착되어 \\n위기와 변혁의 순간마다 \\n이정표 역할을 한 \\nSK 고유의 경영관리체계\\n*  SK Management System\\n1991\\n의약사업 진출 결정, \\n생명과학연구소 발족\\nOUR HISTORY \\n: Seventy Years of \\nPioneering\"),\n",
       " Document(metadata={'source': '000660_SK_2023.pdf', 'page': 5}, page_content='1110\\nESG Special Report 2023 Where we are heading    |     How we get there    |     What we are preparing\\nSK의 끊임없는 도전과 미래를 앞서가는 혜안을 \\n바탕으로 SK그룹의 지주사인 SK주식회사는, 2021년 \\n투자전문회사로의 도약을 선언했습니다. SK주식회사는 \\n새로운 성장영역으로의 포트폴리오 재편과 더불어, \\n기업가치 극대화를 위한 또 한번의 새로운 성장 기회를 \\n모색하고 있습니다.\\n투자전문회사로 변화한 SK주식회사는 4대 핵심 투자 \\n영역 중심의 성장 방식을 구체화하였습니다. 이에 따라 \\n성장 한계자산을 선제적, 적극적으로 매각하여 잠재가치를 \\n최대한 회수함으로써 투자의 선순환 체계를 강화하고 \\n있습니다. 2023년 역시 계속된 고물가, 고금리로 \\n인해 경기침체가  지속되어 경영환경이 녹록치 않을 \\n것으로 예상됩니다.  그러나 어려운 환경에 잘 대응하여 \\n준비한다면 위기 속에서도 새로운 투자 기회를 포착할 수 \\n있을 것입니다. \\nSK주식회사는 불확실성의 시기를 거치는 과정에서\\n포트폴리오의 지속가능성을 높이고, 시장 회복에 \\n대비하여 성장 역량을 공고히 하여 또 한번의 \\n퀀텀 점프를 준비하고 있습니다. 나아가 이러한 혁신과 \\n성장으로, 2025년 이후에는 전문영역에 특화된 \\n투자전문회사로서의 경쟁력을 갖추고 명실상부한 글로벌 \\nTop-tier 전문가치투자자로 자리매김하겠습니다. \\nInvestment Company\\n•   파이낸셜 스토리 수립 \\n•   핵심 영역 중심으로 \\n포트폴리오 재편, 레거시 \\n비즈니스 축소 추진\\n2021\\n투자전문회사\\n•   기업가치 핵심 인자 기반  \\n경영과제 실행\\n•   생존역량 강화 및 신성장   \\n동력 확보\\n2023\\nManagement \\nSystem 2.0 실행 원년\\n•   기업가치 지속 성장\\n•   시장의 지지 및 이해관계자   \\n신뢰 확보\\n2025\\n글로벌 Top-tier   \\n전문가치투자자 •    적극적인 투자 및 회수 전략 시행\\n•    바이오, 소재 중심의 성장 포트폴리오 \\n육성, 높은 수준의 IRR 시현\\n2017\\n투자형 지주회사\\n2015\\n통합 지주사 출범\\n•   SK주식회사, SK C&C 합병 \\n및 지주/사업부문 구분\\n•   반도체, 바이오 등 유망 성장 \\n전망 분야에 선제적 투자\\n2007\\n지주사 체제 전환\\n•  경영효율성과   \\n재무건전성 제고를 위한  \\n선진 경영시스템 도입 \\nHolding Company  \\nOUR JOURNEY\\n: Transforming \\ninto an Investment \\nCompany '),\n",
       " Document(metadata={'source': '000660_SK_2023.pdf', 'page': 6}, page_content='1312\\nESG Special Report 2023 Where we are heading    |     How we get there    |     What we are preparing\\n북미\\n3.5(41%)\\n중국\\n0.8(9%)\\nEU\\n0.6(7%)\\nSK주식회사는 ESG기반의 4대 핵심사업을 중심으로 \\n장기적 관점의 투자 전략을 실행하고 있습니다.\\n2022년에는 앵커 자산과 신규 투자를 연계한 투자 \\n성과로 매출액과 영업이익 성장을 이루어 냈습니다. \\n또한 투명한 ESG 정보공개와 이해관계자 소통으로 \\n대외 유수 평가기관으로부터 최고 수준의 \\n평가 등급을 획득하며 ESG 역량을 인정받았습니다. \\nESG 기반 4대 핵심 영역 포트폴리오\\n첨단소재\\n고성장 ‵반도체/전력반도체/ \\n배터리′ 핵심 소재 선제적 투자로 \\n기존 사업과의 시너지 창출 및 \\n고성장 소재 포트폴리오 확대 \\n가속화\\n투자 자산\\n●   SK스페셜티, SK실트론, \\nWason, SES AI,  \\nSK시그넷, SK파워텍\\n  \\n투자 자산\\n●  TerraPower, Plug Power, \\nMonolith, Atom Power, \\nLunar Energy, Fulcrum, \\nJoyvio, Perfect Day, \\nNature’s Fynd,\\nWildtype\\n그린 \\nGREEN 산업의 성장 거점 선점 \\n및 넷제로 실현을 위한 탈탄소 \\n기술 기업 자산 확보\\n투자 자산\\n●  Socar, Chindata, \\nDataRobot, Soft Berry, \\nGeminus AI, A4X\\n디지털\\n디지털 혁신을 선도하는 \\n새로운 주력 사업 영역 \\n후보군 발굴 및 신기술 투자\\n1.1조원\\n매출 영업이익\\nYoY +24 %\\nYoY +33 %\\n3.4조원\\n3.9조원\\n2.0조원\\n1.9조원\\n0.8조원\\n8.6조원* \\nOUR PORTFOLIO \\nAND \\nPERFORMANCES\\n투자 자산\\n●   CBM, ProteoVant, Standigm, \\nHummingbird, Yposkesi\\n바이오\\n혁신 신약 개발과\\n더불어 CDMO를 아우르는\\n바이오 및 합성 의약품 \\n전 밸류체인 사업으로의 \\n영역 확대\\n재무 성과 (2022년 별도 기준)글로벌 투자 현황 (조원)\\nDJSI World 11년 연속 편입\\n및 복합기업군 최고점\\n(1위 획득)\\n대한민국 \\n지속가능성보고서상 \\n4년 연속 수상\\n최고 등급 AAA 달성 환경, 사회, 거버넌스 \\n전 영역 통합 \\nA+등급 달성\\nESG 성과 (2023년 상반기 기준) \\n지속가능경영보고서 발간,\\n7개 멤버사* \\n성과 연결 공시\\n포트폴리오 \\nESG 통합관리체계 \\n수립 및 시행\\nESG Data Platform 을 통한\\n적시성·정확성 높은 \\n정보공개\\n* 2022년까지 누적 투자 금액(성장 영역 Inc. 직접 투자 자산)으로 합병 비용 포함 및 Divest 금액 제외\\n*  SK이노베이션, SK텔레콤, SK네트웍스, SKC,   \\nSK바이오팜, SK스퀘어, SK아이이테크놀로지\\n한국\\n3.5(41%)\\n동남아 등\\n0.1(2%)\\n북미  |  Plug Power, TerraPower\\n한국  |  SK스페셜티, SK실트론, SK바이오팜, SK시그넷 \\n중국  |  ESR,  ChinData\\nEU  |  Yposkesi \\n동남아 등\\n8.6조원 *\\n*  2022년까지 누적 투자 금액(성장 영역 Inc. 직접 투자 자산)으로 \\n합병 비용 포함 및 Divest 금액 제외'),\n",
       " Document(metadata={'source': '000660_SK_2023.pdf', 'page': 7}, page_content='1514\\nESG Special Report 2023 Where we are heading    |     How we get there    |     What we are preparing\\nRenewing Our Management System\\nPortfolio Management Framework\\nEnduring Downturn & Dealing with Unknown Risks\\n16\\n18\\n22\\n불확실성의 시대, 생존역량과 회복력 확보를 위한 노력  \\n2022년은 지정학적 긴장이 가중되고 경기침체가 장기화되는 등,  \\n어려운 경영환경 속에서 기업으로서 생존 역량과 지속가능성에 대해 \\n원점에서 다시 점검해보는 시간이었습니다. SK주식회사는 모두가 \\n직면한 불확실성 속에서도 이 시기를 위기 이후 맞게 될 더 큰 도약으로 \\n향하는 값진 시간으로 삼고자 하였습니다.\\n이에 SK주식회사는 우선적으로 설정한 지향점들을 점검하고 있으며, \\n시장과 이해관계자 관점에서 기존 전략과 의사결정체계를 재정비하고 \\n있습니다. 또한, 투자전문회사로서 포트폴리오 기업 가치 제고를 \\n위해 재무적 가치와 ESG 가치의 균형적인 성과관리체계를 실행하고 \\n있습니다.\\n장기화되는 경기 하강 국면에서도 살아남을 수 있는 역량과,\\n향후 언제라도 더 큰 모습으로 나타날 수 있는 예측 불가능한 \\n리스크에도 흔들림 없는 기업으로서의 모습을 그리며 \\n지속가능한 생존과 성장을 위한 기반을 다져나갑니다.\\nHOW WE \\nGET THERE'),\n",
       " Document(metadata={'source': '000660_SK_2023.pdf', 'page': 8}, page_content='1716\\nESG Special Report 2023\\n시장의 변화를 반영하고, \\n이해관계자가 바라는 모습의 파이낸셜 스토리\\nSK주식회사가 지향하는 모습을 달성하기 위해, 우리는 \\n기업운영의 근간이 되는 경영시스템을 업그레이드 하고자 \\n합니다. 많은 기업들은 기존의 관념과 경영진의 직관에 \\n기반하여 경영과제를 선정하고 실행해 오고 있지만, \\n급변하는 경영환경과 경험하지 못한 Transition의 시대에서 \\n이러한 의사결정 체계는 더 이상 유효하지 않습니다.\\nSK가 추구하는 Management System은 기업가치를 \\n중심으로 경영계획과 자원 배분, 평가와 보상 등 모든 활동을 \\n디자인하고 실행하는 것입니다. 이를 위해 기업가치에 영향을 \\n미치는 요소가 무엇인지를 분석하고, 이해관계자들과 끊임없이 \\n소통하며 우리가 나아가야 할 방향에 대한 전략과 계획을 \\n수립합니다. 이러한 일들을 통해 시장의 목소리와 환경 변화를 \\n적시에 우리의 경영활동에 반영함으로써, 이해관계자들의 \\n신뢰와 지지를 확보하는 것이 우리의 목표입니다.\\n시장이 매력적으로 생각하는 \\n큰 목표와 구체적이고\\n설득력 있는 계획\\nFINANCIAL \\nSTORY\\n+ RELIABILITY\\n이를 추진할 의지와 역량, \\n구체적인 성과로 \\n시장을 설득\\n·  기업의 경영활동에 따른 주가 변화 추이 분석\\n·   재무/기술/자산 등 여러 경영활동 지표 중 어떤 인자들이 \\n기업가치에 큰 영향을 주는지 통계적 유효성·유의성 관점에서 검토\\n·   고객/주주/비즈니스 파트너 등 현재·잠재 이해관계자를 분류 및 \\n분석하여, 파이낸셜 스토리와의 부합 여부 검토\\n·   각 그룹의 유형 및 기여도, 관심도, 니즈 등을 분석하여 \\n이해관계자 관계를 재정의, 개선/변경하려는 노력 병행\\n기업가치 분석 모델\\nManagement System 2.0이란?\\nManagement System이 본격적으로 논의된 것은, 매년 \\nSK그룹 CEO가 모여 경영환경을 점검하고 그룹이 가야 할 \\n방향을 고민하는 확대경영회의가 있었던 2022년 6월입니다. \\n이는 기업가치를 중심으로 기업의 모든 의사결정 구조를 \\n전환하기 위한 체계정비로서, Management System 2.0 \\n하에서 기업은 시장과 이해관계자 분석을 거쳐 ‵기업가치′\\n를 설명할 수 있는 최적의 분석 모델을 갖추게 됩니다. 이를 \\n위해 경영진은 기업가치 분석 모델에서 도출된 기업가치를 \\n구성하는 핵심인자를 중심으로 각 사의 파이낸셜 스토리를 \\n재구성하고, 이에 부합하도록 내부 리소스 분배계획, KPI 및 \\n평가/보상 체계, 이해관계자 소통전략 전반을 변화시키는 \\n활동을 수행합니다. \\nRENEWING OUR MANAGEMENT SYSTEM\\n경영시스템의 혁신\\n주가핵심인자분석\\n(Multi-regression Analysis)\\n1\\n이해관계자 분석\\n(Stakeholder Relationship Analysis)\\n2최태원 대표이사 회장 \\n (SK 확대경영회의, 2022년 6월)\\n기업가치는 재무 성과, 고객 가치, \\n사회적 가치(Social Value) 등 \\n다양한 요소로 구성됩니다. \\n어떤 요소에 집중해 기업가치를 높일지 \\n분석하여 이해관계자의 더 큰 신뢰와 \\n지지는 물론, 혁신과 성장 방향성까지 \\n확보해야 합니다.\\n=\\n미래의 목표 가치를 \\n현재의 시장이 인정\\nCORPORATE \\nVALUE\\nWhere we are heading    |     How we get there    |     What we are preparing'),\n",
       " Document(metadata={'source': '000660_SK_2023.pdf', 'page': 9}, page_content='1918\\nESG Special Report 2023\\nSK주식회사는 투자 포트폴리오 기업의 가치 제고가 \\n곧 SK주식회사의 기업가치 제고와 직결된다고 판단하고 \\n있습니다. 이에 2022년에는, 새롭게 정비한 Management \\nSystem 2.0을 기반으로 포트폴리오의 경제적 성과와 \\nESG 성과를 균형있게 관리하고자 하였습니다. ESG 경영을 \\n근간으로 장기 성장 잠재력을 키워가는 기업의 가치는 \\n궁극적으로 이해관계자 행복으로 연결되기에, 앞으로도 \\nSK주식회사가 변화시켜야 하는 영역을 점검하고, 시장과 \\n이해관계자의 기대에 부응하는 방향으로 기업가치를 높여갈 수 \\n있도록 노력하겠습니다.\\n2021 2022\\n2021.6\\nSK텔레콤 인적분할 \\nICT 투자 전문회사 \\nSK스퀘어 출범\\n2021.10  \\nSK이노베이션 물적분할 \\n배터리 사업 분사로 \\nSK온 출범\\n2021.12  \\nSK에코플랜트 물적 분할\\n플랜트 사업 분할\\n2021.12\\nSK머티리얼즈 합병\\n첨단 소재 영역 확장 가속화\\n2021.6\\nSKC 비핵심사업 매각\\n텔레시스 통신사업\\n2021.12\\nSK에어플러스 설비 매각\\n산업가스 설비\\n2021.04\\nSES AI 투자\\n차세대 리튬메탈 \\n배터리 기술 확보\\n2021.05\\n일본 투자 법인(SK JI) 설립\\n일본 내 투자 Presence \\n확대\\n2021.07\\nSK머티리얼즈그룹\\n14 JV 설립\\n배터리 Si 음극재 사업 확장\\n2021.02\\nPlug Power 투자 \\n수소 연료전지 \\n파트너십 강화\\n+\\n2021.06\\nFynder Group 투자\\n발효 기반 대체식품  \\n사업 진출\\n2021.03\\nYposkesi 인수\\n세포유전자 치료제 CMO(위탁생산) \\n사업 확대\\n2021.09\\nRoivant 투자\\n신약 개발 플랫폼 확보\\n2021.11\\nSwift Navigation 투자\\n고성능 모빌리티 GPS 솔루션 기술\\n2021.12\\nSoft Berry 투자\\nEV충전 정보 제공 플랫폼\\n2022. 10\\nSK에어플러스 자산 유동화 \\n산업가스 설비공장\\n2022.11\\nSKC 비핵심사업 매각\\n필름사업\\n2022.04\\nSK파워텍 인수\\nSIC 전력반도체 밸류체인 구축\\n2022.01\\nCBM 투자 \\n세포유전자 CDMO(위탁개발생산) \\n사업 확대\\n:  SK주식회사와  \\n멤버사의 공동 투자 \\n2022.06\\nGeminus AI 투자\\n디지털 트윈 기술 기반 AI 플랫폼\\n포트폴리오 \\n재편\\n포트폴리오\\n전환 \\n조정\\n합병\\n매각\\n첨단소재\\n그린\\n바이오\\n디지털\\n2023\\n2022.05\\nTerra Power 투자 \\n소형모듈형원전(SMR) \\n기술 기반 탈탄소 시장 선점\\n2021.06\\nMonolith 투자 \\n청록수소 기반 \\n수소 사업 확장\\n2022.08\\nAtom Power 투자 \\nSSCB(스마트회로차단기) 기술 기반 \\nEV충전 에너지 솔루션 사업 확장\\n2021.08  \\nSK시그넷 인수 \\nEV충전 인프라 사업 확장\\n2021.11\\nSK E&S 비즈니스 유동화 \\n도시가스 사업 상환우선주 \\n발행\\n* ROIC(Return on Invested Capital) : 투하자본수익률 * 주요 증권사 추정치 평균 기준\\n포트폴리오 관리 원칙\\n·   차세대 소형 모듈형 원전(SMR) \\n및 리튬메탈 배터리 등   \\n미래 유망영역 선제투자\\n포트폴리오  조정, \\n합병, 매수, 매각 등  \\n재편 및 전환 검토\\nROIC* 관점 \\n평가·관리\\n자본조달비용, \\n시장 요구수익률, \\n투자기회비용 등\\n종합 검토\\n적극적인 포트폴리오\\nIn & Out\\n포트폴리오 가치* 성장 \\n(조원)\\n2020 2022\\n22.6\\n28.4\\nPORTFOLIO MANAGEMENT FRAMEWORK\\n경제적 가치와 ESG 가치를 통합적으로 고려하는 포트폴리오 관리체계\\n4대 핵심 영역 중심의 포트폴리오 재편\\nSK주식회사는 2017년 투자형 전문회사 선언 이후 약 58개의 \\n투자 포트폴리오를 편입하였으며, 포트폴리오의 체질 개선을 \\n위해 성장이 정체되거나 한계에 직면한 사업은 과감하게 \\n줄이고, 중장기 성장 영역 포트폴리오를 확대하고 있습니다. \\n이를 위해 파이낸셜 스토리에 근거한 사업 조정, 합병, 매각은 \\n물론, 신규 투자를 통해 단계적으로 포트폴리오를 재편하고 \\n있습니다.\\n+ + +\\nWhere we are heading    |     How we get there    |     What we are preparing'),\n",
       " Document(metadata={'source': '000660_SK_2023.pdf', 'page': 10}, page_content='2120\\nESG Special Report 2023\\n투자 검토 단계\\nPre-Acquisition (인수 전)\\n01\\n포트폴리오 ESG 관리 체계\\n장기적 관점에서 기업가치 제고를 실현하기 위해 핵심자산인 \\n투자 포트폴리오의 경제적 가치와 함께 ESG 가치를 \\n통합적으로 관리하기 위한 체계를 구축하고 있습니다.\\n투자 검토 시점부터 인수 후, 회수 시점까지 투자\\nLife Cycle에 걸쳐 적용되는 체계적인 ESG 관리를 \\n기반으로 내부적으로는 ESG를 고려한 합리적인 투자의사 \\n결정을 이행하고, 시장에서는 포트폴리오의 기업가치가 \\n시장에서 제대로 평가받으며 나아가 사회·환경에 미치는 \\n파급력을 높일 수 있도록 노력하겠습니다.\\n포트폴리오 ESG 관리 원칙\\nSK주식회사 투자회사\\n기업가치 관점의\\nESG 중점관리 \\n항목 도출\\n자사 ESG \\n관리전략\\nESG 성과 \\n데이터 관리\\n기업가치와\\nESG 성과 \\n연계성 분석\\n포트폴리오 \\nESG 관리전략 \\nUpgrade\\n성장단계\\n산업특성\\nESG Divestment 전략 검토\\n       ESG Exit 리포트 발간\\n ·    인수 이후 ESG Value-up 기반 Exit 전략 도출\\n ·    중대 ESG 리스크/기회 현황 및   \\nESG 관리·공시 수준 확인\\n셀사이드(Sell-side) 점검사항 관리\\n       중대 ESG 이슈 존재 여부 검토\\n ·    매각 대상 시장 내 ESG 규제 준수 여부 확인\\n ·    ESG 우수 영역에 대한 정보공개 및    \\n기회 확대 방안 제시\\n ·    국내외 책임투자 기준 부합 여부 확인\\n ·    우수 관리 영역 정보공개 및   \\n이해관계자 커뮤니케이션\\n매각/투자 회수 단계\\n03\\nExit (투자 회수)\\n정기 ESG 점검\\n       투자회사 분류 \\n ·   전체 포트폴리오를 16개 업종, 기업 규모에 따라 3개 그룹으로 구분\\n       ESG 중점관리 항목 도출 \\n  ·   ESG 외부평가 및 주가 상관관계 상위 영역 분석에 따라   \\n산업 핵심관리 영역 도출\\n       정기 평가 실시 \\n   ·   연 2회 ESG 실적점검 실시,     \\n중요 ESG 리스크/기회 관련 이슈 식별\\n보유 단계\\n02\\nValue-up Period (보유 기간)\\nESG 기반 주주 소통\\n        주주 소통 대상 안건\\n  ·   해당 산업 ESG 중점관리 항목과 연관된 리스크가 식별되었거나,  \\n연중 중대한 ESG Controversy Issue(예상하지 못한 우려) 발생 시\\n       투자회사 유형별 관여 방식\\n ·    이사회 기타비상무이사를 통한 소통\\n ·    ESG 점검 리포트 또는 주주서한 발송\\n기후 리스크 관리\\n        전환 리스크\\n ·    탄소 규제/가격 변동에 따른 재무영향 점검  \\n[수익성] 매출액/영업이익 대비 탄소 비용 추이 고려  \\n[경제성] 투자 대비 감축 수단 효과 검토  \\n[시장성] 경쟁사 대비 속도/수준 감안 대응전략 점검\\n       물리적 리스크\\n ·    자산 소재 지역의 취약한 이상기후 요인 식별\\n ·    고위험 기업 대상 관리방안 마련 권고\\nESG 실사\\n       ESG 실사 수행\\n ·   실사 대상 기업 산업 및 규모에 따른 \\n체크리스트 생성\\n ·   점검항목은 유형에 따라   \\nESG 리스크와 관리체계로 구분\\n ·   서면진단 및 현장실사 실시\\n        시사점 도출\\n ·    Valuation 반영을 통한   \\n인수가액 조정\\n ·   PMI(Post-Merger Integration, \\n인수 합병 후 통합 과정)   \\n개선 과제 제시\\nESG는 의사결정과 행동에 반드시 \\n반영되어야 하는 필수 요소이자 \\n기회입니다. SK는 기업가치의 건강한 \\n성장과 이해관계자의 지속가능한 행복을 \\n위해 경영의사결정의 DNA로서 \\nESG(환경/사회/지배구조)를 \\n내재화하고 있습니다.\\nESG 관리의 단계적 고도화\\n포트폴리오 ESG 관리 역량 축적, \\n글로벌 Top-tier 수준 ESG 관리체계 확보\\n성장단계별 관리 차별화\\n투자기업 성숙도(기업의 Life Cycle)에\\n따라 적합한 ESG Value-up 실현\\n산업별 중점관리항목 체계화\\n산업별 기업가치에 큰 영향을 주는 \\nESG 이슈 집중 관리\\nWhere we are heading    |     How we get there    |     What we are preparing'),\n",
       " Document(metadata={'source': '000660_SK_2023.pdf', 'page': 11}, page_content='2322\\nESG Special Report 2023\\n최근 국내외 경영환경은 글로벌 경기침체에 대한 우려와 \\n함께 하반기 시장 회복에 대한 기대감이 병존하며, \\n과거와는 다른 새로운 국면을 맞이하고 있습니다.\\n이에 따라 SK주식회사는 고물가·고금리 지속에 \\n대비하고, 경기침체 장기화에 따른 재무건전성 및 \\n펀더멘털 영향에 대한 대응 계획을 수립하고 있습니다. \\n또한 현상유지부터 극단적인 상황까지 리스크 상황을 \\n가정하여, 발생할 수 있는 다양한 불확실성에 견디는 \\n힘을 기르고자 합니다.\\n경기침체와 불확실한 리스크에의 대처 \\n외부 경영환경 \\n리스크 확대 \\n투자전문회사로서의 \\n생존 역량 강화\\n기업가치 \\n하방압력 최소화\\n공격적 금리 \\n상승에 따른 \\n조달 비용 ↑\\n글로벌 \\n경기침체 \\n가능성  ↑\\n예측 불가능한 \\n충격 \\n발생빈도 ↑\\nENDURING DOWNTURN & \\nDEALING WITH UNKNOWN RISKS                                         \\n이를 위해 단기적으로 재무 안정성 강화를 우선하여 자금 조달 \\n파이프라인을 다변화하고 있으며, 차입구조를 개선하고 투자 \\n집행 규모 및 속도 조절을 통해 순차입금 수준을 낮춰 나갈 \\n계획입니다. 동시에 거시경제 상황의 개선과 함께 고성장 \\n궤도에 재진입할 수 있도록, 투자로 구축해온 포트폴리오의 \\n수익을 실현하고 새로운 성장 기회 탐색을 위한 투자를 \\n실행하며 기업가치 하방 압력을 완화하기 위한 리스크 \\n대응력을 강화할 예정입니다.\\n                    SHORT-TERM\\n                     MID-TERM       \\n                                           예측불가 리스크에 대한 대응력 확보\\n                                    재무건전성 확보 및 포트폴리오 관리 강화를 통한\\n•   중장기 순차입금 의존도 \\n목표 수준 유지\\n•   포트폴리오 Review  \\n강화 및 Worst 상황 대응 \\n방안 수립\\n•   ROIC 기준 경제성 및 \\n실행력 평가\\n단기 전략우선 순위\\n•   거시경제 환경 변화에 따른 \\n리스크 노출 파악\\n•   예측 자체가 불가능한 \\n초미지 (超未知) 위기 검토\\n•   위기 현실화 전 사전  \\n대응방안 마련\\n중기 전략경영환경 인식\\n기업에게 제일 무서운 것은 불안, \\n즉 Unknown입니다.\\n어떤 시나리오가 일어나도 \\n최소한 생존을 해내는 방향을 \\n찾는 것이 지금 기업에게 가장 \\n중요한 덕목이라고 생각합니다.\\n안정된 재무구조를 통한 기업의 \\n펀더멘털 강화가 필요합니다. \\n차입 구조 개선, 투자 수익 실현, \\n자금 조달 다변화가 우선적으로\\n고려되어야 할 최적화된\\n전략이라고 생각합니다.\\nWhere we are heading    |     How we get there    |     What we are preparing\\n시나리오 플래닝\\n•   지정학적 긴장, 거시경제 불확실성 \\n강화 등 외부환경 변화로 발생 \\n가능한 Worst Case를 상정하고 \\n이에 대한 대응력 식별, 대응 방안 \\n수립\\n•   SK주식회사의 투자 현황을 \\n점검하고, 시나리오별 리스크를 \\n파악하여 현금 창출력을 중심으로 \\nValuation 고도화 \\n투자 방향성 \\n및 전략 \\nUpgrade \\n                                             포트폴리오 강건성 제고'),\n",
       " Document(metadata={'source': '000660_SK_2023.pdf', 'page': 12}, page_content='2524\\nESG Special Report 2023 Where we are heading    |     How we get there    |     What we are preparing\\n다가올 상승기의 성장 기회 극대화를 위한 신성장 전략  \\nSK주식회사는 불확실한 경영환경을 헤쳐 나가면서도 다가올 시장에서의 이기는 전략\\n(Winning Strategy)을 고민하며 내일을 준비하고 있습니다. 사람과 기술, 고객을 \\n연결하는 혁신 기술을 가능케 하는 첨단소재, 산업 전반의 탈탄소를 주도하는 그린,  \\n인류의 건강한 삶을 위한 새로운 솔루션을 제공하는 바이오, 사회의 디지털 전환을 \\n가속화하는 게임체인저를 발굴하는 디지털. 이 4대 핵심 영역이 SK주식회사만의 투자와 \\n성장 플레이로 잠재력을 펼칠 무대입니다. 또한 SK는 넷제로를 에너지 전환 시대의 새로운 \\n성장 모멘텀으로 보고 다양한 친환경 기술 및 사업 기회를 확대해 나가고 있습니다. \\n긴 경기침체가 끝나고 새로운 성장의 기회가 열렸을 때, SK주식회사의 숨은 노력이 \\n진가를 발휘할 것이라고 믿습니다.\\nAdvanced Materials\\nGreen\\nBio\\nDigital \\nExpanding Our Portfolio’s Green Readiness\\nResponsible & Profitable Low Carbon Transition\\nNet Zero: Team Up In Action \\n26\\n27\\n28\\n29\\n30\\n32\\n36 \\nWHAT WE ARE \\nPREPARING'),\n",
       " Document(metadata={'source': '000660_SK_2023.pdf', 'page': 13}, page_content='ESG Special Report 2023\\n2726\\nSK주식회사는 포트폴리오 내 고성장 \\n반도체, 전력 반도체, 배터리 핵심소재를 \\n모두 보유하고 있는 유일무이한 글로벌 \\n기업입니다.\\n첨단소재\\nADVANCED \\nMATERIAL\\nSK주식회사는 사업 포트폴리오 안에 고성장 반도체, 전력 \\n반도체, 배터리 핵심소재를 모두 보유하고 있는\\n유일무이한 글로벌 기업입니다. 반도체 핵심소재를 중심으로 \\n다져왔던 사업 기반을 바탕으로 시너지를 창출하고 고성장 \\n영역에 대한 선제적인 투자를 단행하는 등 과감한 행보를 \\n통해, 전력 반도체 및 배터리 핵심소재로 투자 포트폴리오를 \\n확대해 나가고 있습니다. 향후 SK주식회사는 글로벌 \\n혁신기술 투자 전문가로서 세계적인 네트워크와 그룹 내 \\n제조 경쟁력 및 투자 전문 인력을 기반으로 글로벌 최정상의 \\n첨단소재 기업으로 도약하고자 합니다. 이를 위해 고부가/ \\n고성장 신규 영역에 대한 적극적 투자와 함께 글로벌 협업,\\nM&A, 투자 포트폴리오 최적화를 통해 고성장 및 고수익 \\n가치를 실현하고자 합니다.\\n투자 포트폴리오\\nSK주식회사는 최근 전 세계적으로 고성능 컴퓨팅(HPC) 및 \\n전기차(EV) 확산, 고용량/고효율 배터리 수요 증가, 자율주행/ \\nAR 등의 시각센싱(Vision Sensing) 고도화 등에 따라\\n첨단 소재에 대한 수요가 증대되면서, 핵심기술 기반 글로벌 \\n공급망 구축을 선도하고 신성장 포트폴리오의 가시적 성과를 \\n창출하기 위한 포트폴리오 다각화를 추진하고 있습니다.\\nGREEN\\nSK주식회사는 그린 산업의 미래 핵심 영역에 선제 투자하여 \\n그린 산업 성장의 거점을 선점하고자 합니다.\\n탈탄소 기술 진화 및 상업화를 통한 가격 경쟁력 확보, 규제 \\n강화에 따른 탄소 감축 수요 증가, 지속가능성 인식 확산, 그린 \\n택소노미(Green Taxonomy) 기반 투자 확대 등의 영향으로 \\n그린 산업은 2030년 경을 기점으로 폭발적 성장을 할 것이며, \\n현 시점이 주도권을 선점하기 위한 투자 적기라고 판단하고 \\n있습니다. 이에 따라 SK주식회사는 글로벌 넷제로 달성의 \\n게임 체인저가 되겠다는 비전 아래 Energy와 Industry \\n영역 내 혁신과 변화를 주도하겠습니다. 또한, SK멤버사들의 \\n친환경 전환(Green Transformation)을 위한 조력자이자 \\n파트너로서, SK주식회사와 멤버사의 그린 포트폴리오 실현과 \\n연계사업화를 통한 미래 가치의 확대를 견인하겠습니다. \\n투자 포트폴리오\\nSK주식회사의 그린 투자 영역은 탄소 배출 축소 및 탄소 \\n제거를 포함하는 3대 탈탄소 영역으로 정의할 수 있습니다. \\nEnergy Transition 영역에서는 Electrification(전기화)과 \\nClean Fuel(청정연료) 분야 내 재생에너지, 소형모듈원전\\n(SMR), 전기차 충전 인프라, Grid/가정용 ESS, 수소, \\n암모니아 및 Biofuel 등의 사업화에 집중하고 있습니다. \\nIndustrial Transition 영역 내 Sustainable Food(지속 \\n가능 식품) 분야에서는 대체 단백질 등 다양한 혁신 식품원료 \\n기술 확보에 주력하고 있습니다. Green Industry(그린 \\n산업) 및 Circular Materials(순환 소재) 분야와 Carbon \\nManagement 영역에서는 고탄소 배출 제조업에 적용할 \\n탄소감축 기술에 선제 투자하고 CCUS(탄소 포집·활용·저장) \\n및 탄소배출권 등을 주요 사업으로 추진 중입니다.  \\n그린 \\nCarbon Mgmt.\\nEnergy Transition\\nIndustrial Transition\\n대기 중 온실가스의 직접 제거 효과 극대화\\nCCUS, 자연기반 탄소흡수원\\n화석 에너지원의 대체와 청정화 \\n전기화 (Electrification), 청정연료 \\n(Clean Fuels)\\n온실가스 다량 배출 산업의 구조적 전환\\n농·축산업, 제조업 (철강 시멘트 등), 폐기물\\n배출 축소 (Reduction) Solution\\n탄소 제거 (Removal) Solution\\nWhere we are heading    |     How we get there    |     What we are preparing'),\n",
       " Document(metadata={'source': '000660_SK_2023.pdf', 'page': 14}, page_content='2928\\nESG Special Report 2023\\nSK는 2002년, 바이오사업을 육성해 2030년 이후 그룹의 \\n핵심동력으로 삼겠다는 장기목표를 수립한 이래, 신약과 백신, \\n제제, 의약품 위탁생산을 주축으로 바이오 산업에 진출하며 \\n끊임없이 성장기회를 확보하고 도약해 왔습니다. 최근 SK \\n주식회사는 글로벌 최대 시장인 미국과 유럽을 중심으로 합성 \\n신약과 CGT(Cell & Gene Therapy, 세포유전자치료제) \\nCDMO(Contract Development and Manufacturing \\nOrganization, 위탁개발생산)의 사업 경쟁력을 높이고 \\n있습니다. 2017년부터 CDMO시설을 인수하고 세계적인 \\nCGT 기업에 투자하며 SK의 바이오 시장을 세계로 확장하고 \\n있습니다. SK는 향후 5년 간 바이오 분야에 최소 6조원 이상 \\n투자하며 목표한 바이오 영역의 고성장을 달성하고자 합니다.\\n제약 분야\\nSK주식회사는 SK바이오팜과 함께 양사가 보유한 역량을 \\n활용하여 신약 개발 사업 중심의 포트폴리오를 밸류업하고, \\n신규기술 및 역량을 확장할 소수의 성장영역에 집중하여 제약 \\n분야의 파이프라인을 지속적으로 창출하고자 합니다.\\n제약 분야 신성장 전략 수립을 통해 새로운 업사이드 모멘텀을 \\n찾음으로써 ‵No. 1 CNS 종합제약사′의 비전을 실현해 \\n나가고자 합니다.\\nCDMO 분야\\nSK주식회사는 2021년 SK팜테코를 통해 프랑스 Yposkesi \\n를 인수하며 CGT CDMO 사업에 진입한 후, 2022년 미국 \\nCGT CDMO인 CBM의 2대 주주가 되는 등 미래 유망 \\n영역인 CGT 사업에 선제적으로 진출하고 있습니다. 기존 \\n핵심사업인 합성 원료의약품 사업의 설비 증설과 기술 기반 \\n성장을 추진함과 동시에, 프랑스 Yposkesi 및 미국 CBM 등 \\n투자 포트폴리오 간 시너지 창출을 본격화하며 CGT 사업 내 \\n글로벌 입지를 확보하겠습니다.\\nCGT 사업 \\n선제적 진출\\n합성/CGT 영역 \\n글로벌 생산 거점 구축\\n세계 최고 수준의 \\n생산/품질 기술 확보\\nCDMO 분야 파이낸셜 스토리\\n2025\\n글로벌 \\nTop-tier \\nCDMO\\nSK의 글로벌 바이오 사업\\nU.S.A.\\nEUROPE\\nKOREA\\nBIO\\n바이오 \\nWhere we are heading    |     How we get there    |     What we are preparing\\n전략을 실행하고 이를 기반으로 신규 유망 영역에 투자하여 \\n투자수익을 극대화하는 선순환구조를 내재화하고 있으며, \\n앞으로도 세부영역별 앵커 (Anchor)를 찾는 방법론과 속도를 \\n차별화하여 최적화된 포트폴리오 구축이 가능하도록 노력할 \\n것입니다.\\n투자 포트폴리오 \\nSK주식회사는 향후 디지털 분야에서 기존에 추진하던 사업의 \\n경쟁력을 강화하고 신규 산업에 대한 탐색적 투자를 통해\\n미래 동력이 될 새로운 앵커를 확보하고자 합니다. 이를 위해 \\n산업 및 지역적 특성을 활용하는 전략적 투자를 통해 글로벌 \\n기술리더십을 확보하고, 펀드 조성 및 다각화된 투자전략을 \\n마련해 투자 및 사업 환경별 효율적인 자금 조달 경로를 \\nSK주식회사는 디지털 전환을 주도하기 위해 AI, Web3, \\n전기차(EV) 충전 플랫폼 등 디지털 기술 및 인프라에 대한 \\n선제적 투자를 확대하고 있습니다. 특히, 타 산업에 파급력이 \\n크고 본격적인 성장이 기대되는 분야에서 중장기적 시너지를 \\n낼 수 있는 영역을 선별하여 투자함으로써 디지털 경쟁력을 \\n제고하고자 합니다. 이는 향후 SK주식회사의 핵심산업으로 \\n성장 가능한 Next 포트폴리오에 대한 준비이자, 동시에 \\nSK와 한국사회의 디지털 전환에 기여할 수 있는 중요한 \\n잠재력을 지닌 영역입니다. 디지털 분야는 그 어떤 분야보다도 \\n트렌드의 변화가 자주 발생해 이에 민첩하게 대응할 수 \\n있어야 합니다. 이에 따라, SK주식회사는 적극적인 투자회수 \\nDIGITAL\\n디지털 \\nSK그룹 협업 기반의 경쟁력 \\n확보로 시장 선도전략 추진\\n본격적 시장 확산 사업\\n산업 전방위적 전환이 본격화되지 않은 \\n게임 체인저가 등장하는 시장 내 유망 \\n사업모델 선점 및 적극적인 투자 추진\\n트랜스포메이션 주도 산업\\n모빌리티 \\n•   자율주행 기술 고도화,  \\n시장성장성 확대\\n•   국내 및 동남아 모빌리티 사업 역량 \\n기반 시너지 창출 및 고성장 전략 실행\\nWeb3  \\n•   리테일, 브랜드 등 다수 기업시장  \\n참여 초기\\n•   Web3 생태계 필수 인프라 기술 \\n발전 중\\n전기차(EV) 충전 플랫폼 \\n•    2030년 시장 규모 5조원 이상 전망\\n•   SK그룹 내 밸류체인 진입 확산 중  \\n(충전기 제조, 충전 서비스 등)\\n인공지능(AI)\\n•   생성형 AI(Generative AI)   \\n본격 확산 초기\\n•   산업 전방위적으로 AI 전환 가속화 중\\n신규 산업에 대한 탐색적 \\n투자를 통한 그룹의 미래 동력 \\n후보군 육성\\nEmerging Robotics\\n•    AI, 머신러닝 기반 고기능   \\n신규 로봇 출현 중\\n•    신규 로봇 도입 산업별 레퍼런스  \\n축적 단계\\n뉴 스페이스(New Space)\\n•   민간 주도의 뉴스페이스 시대 개화\\n•   우주 내 서비스 등 신규 사업모델  \\n개발 가속화\\n양자 컴퓨팅(Quantum Computing)\\n•    현존하는 슈퍼컴퓨터로 도달  \\n불가능한 성능 구현\\n•   기술 개발 진척에 따라 높은   \\n급성장 잠재력 보유\\n신규 산업'),\n",
       " Document(metadata={'source': '000660_SK_2023.pdf', 'page': 15}, page_content='ESG Special Report 2023\\n3130\\n향후 10년은 파리기후 협약 1.5도 합의 이행을 위한 \\n골든타임으로서 탄소배출의 주체임과 동시에 탄소감축의 \\n주체인 기업의 의사결정이 그 어느 때보다 중요한 시기입니다. \\nSK그룹은 미래 저탄소 시대의 선두를 이끈다는 사명감으로 \\n2030년 전 세계 탄소감축 목표량의 1%인 약 2억톤의 CO2를 \\n감축하겠다는 목표를 수립한 바 있습니다. \\n이를 위해 SK주식회사는 기후변화 대응 및 그린전환을 위한 \\n친환경 사업 확대, 탄소배출 감축, 탄소 제거를 위한 \\n탈탄소화 솔루션에 적극 투자하여 글로벌 넷제로와 \\nSK의 탄소발자국 제로화에 기여하고자 합니다.\\nEXPANDING OUR \\nPORTFOLIO’S \\nGREEN READINESS\\n주요 탈탄소 투자 영역\\n·        ICT 에너지 솔루션\\n·        친환경 모빌리티\\n·        재사용 포장재\\n ·    EV SCM(전기차 공급망관리)\\n ·    배터리 소재\\n ·    수소, SMR(소형모듈형 원전)\\n ·    전기차 충전 솔루션\\n ·    대체 식품\\n첨단소재\\nGreen\\nDigital\\n01\\n02 03\\n탄소없는 미래를 향한 SK의 여정\\n친환경 투자 비중 확대\\nSK주식회사는 2022년 기준 친환경 비즈니스에 성장 \\n영역에 대한 직접 투자 금액 중 30%를 투자하며 \\n친환경 포트폴리오를 확대하고 있습니다. \\n앞으로도 SK는 선제적으로 친환경 사업 및 기술에 \\n투자하고 SK그룹 내 그린사업 간의 연계를 강화하여 \\n그린 이코노미의 성장을 견인하겠습니다.\\n30%\\n2022년 누적\\n친환경 비즈니스\\n투자 비중\\n2016 2017 2018 2019 2020 2021 2022\\n23,184\\n8,682\\n6,679 \\n1,7541,466589\\n25,895\\n친환경 비즈니스 누적 투자 규모 추이\\n(억원) \\n0.32% \\nICT 기반 \\n에너지 솔루션\\n0.22% \\n차량용 ESS\\n친환경 투자금액 중 한국형 녹색분류체계(K-Taxonomy) 영역별 비중\\n34.94% \\n수소 생산\\n17.28%\\n탄소중립 소재·부품·장비\\n12.39%\\n에너지 고효율 설비\\n2.20% \\n청록수소 \\n생산\\n2.17%\\n가정용 \\nESS\\n5.85% \\n대체 가공식품\\n3.77% \\n에너지 솔루션\\n2.41% \\n소형 \\n모듈형 원전\\n1.22% \\n바이오 가스\\n에너지화\\n5.91% \\n무공해 차량 \\n제조 및 \\n개인이동 공유/\\n운송\\n11.32% \\n전기차 충전 시스템\\nWhere we are heading    |     How we get there    |     What we are preparing'),\n",
       " Document(metadata={'source': '000660_SK_2023.pdf', 'page': 16}, page_content='그룹 차원의 에너지 전환 노력 가속화\\nSK는 선제적인 넷제로 활동을 통해 환경, 사회, \\n이해관계자에게 선한 영향력을 미치는 지속가능한 \\n성장모델을 구축하고자 합니다. 이를 위해 사업 운영 과정에서 \\n발생하는 탄소배출량을 직접 감축할 뿐만 아니라, 경영활동 \\n전반에 탄소 사용에 대한 자체 내부가격을 설정 및 반영하여 \\n저탄소 기술 투자를 촉진해 나가고자 합니다. \\nRESPONSIBLE & \\nPROFITABLE \\nLOW CARBON \\nTRANSITION\\n지속가능하고 수익성 있는 저탄소 경제로의  전환\\n도래할 저탄소 경제에서 경쟁력을 잃지 않고 살아남기 위해서 \\n기업은 탄소 배출량을 줄이고 적극적인 넷제로 달성을 위해 \\n노력해야 합니다. 그러나 넷제로 가속화를 위한 감축 노력은 \\n때때로 기업의 단·장기 수익성에 영향을 미치기도 합니다. \\n이에 투자전문회사로서 SK주식회사는 포트폴리오의 \\n현재 기후 리스크 수준을 점검하는데 나아가, 탄소 리스크 \\n경감을 위해 각 사가 준비하는 감축수단의 효과성과 경제성을\\n함께 검토할 수 있는 관리체계를 수립하였습니다.  \\n또한 포트폴리오 전반의 물리적 리스크를 점검할 수 있도록 \\n10개 이상 기후 유형과 지역별, 회사별 재무리스크 수준을 \\n분류하여 모니터링하고 있습니다. \\n이러한 관리체계 하에서 각 사가 최적의 방식으로 기후 \\n리스크를 관리하고 넷제로를 달성해 나갈 때, 그 노력이 \\n기업과 인류에 불러올 가치는 시간이 흐름에 따라 더욱 상승할 \\n것입니다.\\n포트폴리오 기후 관련 재무 리스크 관리 \\n(직접자회사 및 Minor 투자사 포함, 전환/물리적 리스크)\\nRE100 이행\\n•   그룹 공통 재생에너지 확보 프로젝트\\n•   SK에코플랜트 재생에너지 사업  확대 및   \\n탄소 배출권 등 부가수익 창출을 위한    \\n해외 태양광 비즈니스 구축\\n•   SK하이닉스, SKC 해외사업장 RE100 우선 추진\\n•   SK텔레콤, SK네트웍스 태양광 발전설비 구축\\n•  SK아이이테크놀로지 , SKC 녹색요금제 도입\\n탄소비용을 모든 비즈니스 의사결정에 통합\\n•   그룹 넷제로 달성을 위한 핵심 수단으로서 \\n내부탄소가격제 도입\\n•   리스크 관리 범위 확장\\n•   온실가스 감축량 제고\\n•   재생에너지 투자 가속화\\n•   저탄소 제품·서비스 확장 촉진\\n기존 포트폴리오 넷제로 달성 시나리오 \\n(SK 주요 15개 멤버사, SCOPE 1+2 배출량 기준)\\n •SK스페셜티\\n• SK이노베이션 계열  \\n- Green Biz\\n•SK주식회사\\n•SK E&S\\n•SKC\\n•SK실트론\\n•SK에코플랜트\\n•SK브로드밴드\\n• SK이노베이션 계열  \\n- Carbon Biz\\n•SK텔레콤\\n•SK하이닉스\\n•SK가스\\n•SK네트웍스\\n•SK바이오팜\\n•SK케미칼\\n•SK스퀘어\\n2050-α \\nNet Zero\\n2025\\n2030\\n2035\\n2040\\n2050\\n2020\\n2045\\n5%\\n상쇄\\nCDM 사업(국내외 조림 \\n사업, 쿡스토브 등), \\n탄소배출권 구매 등\\n53%\\n직접 감축\\n설비 효율 개선, 친환경 \\n연료 전환, 탄소 포집 및 \\n활용·저장(CCUS), \\nEV(전기차) 전환 등\\n42%\\nRE100\\nREC 구매, PPA, \\n녹색요금제 등\\n전력 사용의 100% \\n재생에너지로 전환\\n3332\\nWhere we are heading    |     How we get there    |     What we are preparingESG Special Report 2023'),\n",
       " Document(metadata={'source': '000660_SK_2023.pdf', 'page': 17}, page_content='ESG Special Report 2023\\n3534\\n규제 리스크 \\n비용\\n실질 리스크 \\n비용\\n100\\n60\\n각 사 온실가스배출전망치\\n(BAU) 및 미래 배출권 \\n가격 예측 기반 산정\\n투자회사별\\n실질 리스크 수준에 \\n따라 차별적 관리\\n감축목표\\n 이행\\n감축투자 \\n비용\\n   원가구조 \\n개선\\n중·장기 기후변화 대응 시나리오 고려, \\n넷제로 이행 수단 효과성 및 경제성 분석\\n가격/원가 구조변화에 \\n따른 규제 비용 부담 감소 \\n영역 확인\\n3. 잔여 리스크1. 노출된 리스크\\n-30+20\\n2. 관리된  리스크 물리적 리스크 전망 데이터 분석\\n리스크 수준 분류\\n폭염, 강풍, 해안침수, 산불, 열대성 저기압,\\n폭설, 폭우, 가뭄, 홍수/범람, 혹한\\n대한민국, 미국, 일본, 중국,\\n인도네시아, 베트남, 인도, 헝가리, UAE…\\n포트폴리오 \\n글로벌 사업장 \\n(국가 / 도시별)\\n10대 \\n이상 기후별 \\n예상 임팩트\\n이 과정에서 각 투자회사가 보유한 감축수단의 효과성, \\n경제성과 함께 전환 리스크를 지탱할 수 있는 충분한 \\n시장성을 보유했는지  검토하게 됩니다. 도출된 실질 전환 \\n리스크는 미래 투자회사의 매출 창출 역량과 비교한 지표인 \\n‘탄소리스크보상비율’로 환산되어, 탄소 리스크 측면의 \\n건전성을 평가받게 됩니다.\\n물리적 리스크 \\n최근 이상기후 현상 발생 빈도가 증가함에 따라 물리적 \\n리스크가 심화되고 있습니다. 물리적 리스크는 기후변화의 \\n물리적 영향으로 발생하는 리스크로, 기업의 매출/자산/영업 \\n활동 등에도 극심한 피해를 줄 수 있는 요소입니다.\\n이에 SK주식회사는 기후 변화에 따른 물리적 리스크 관리를 \\n위해 포트폴리오 사업장별 이상기후에 노출된 지역을 \\n기반으로 예상되는 임팩트를 분석하여 포트폴리오의 기후 \\n위험 노출도를 추정하고, 고위험 투자회사/투자지역에 \\n대한 대응방안을 관리하고 있습니다. 또한, 사업확장 및 \\n투자지역 선정 시 물리적 리스크를 투자의사결정의 검토 \\n요소로 고려합니다.\\n전환 리스크 \\nSK주식회사는 포트폴리오 투자회사 대상 기후 리스크 \\n관리체계를 정립하였습니다. 노출된 규제 리스크 중 \\n투자회사의 관리를 통해 완화된 리스크를 차감한 실질 \\n리스크를 투자회사 평가의 기준으로 활용합니다. \\n포트폴리오 기후 리스크 재무영향 관리 \\n-30\\nSK주식회사\\n고위험 \\n투자회사 대상 \\n경보 전달 \\n투자회사\\n자체 관리체계 \\n수립 및 \\n모니터링\\nSK주식회사\\n연 1회 \\n리스크 시나리오\\n업데이트\\n주요 \\n투자회사별 \\n지역별 \\n(도시/국가)\\n이상기후 \\n유형별\\n중위험\\n저위험\\n고위험\\nWhere we are heading    |     How we get there    |     What we are preparing\\n단계별 관리 전략\\n•   주요 투자회사의 \\n온실가스배출전망치에 NGFS* \\n시나리오 기반의 탄소가격 전망을 \\n고려할 시, 투자회사가 부담하게 \\n되는 규제리스크 비용 산정\\n -  2050년까지 누적 규제 리스크 \\n비용의 현재가치\\n -  현재 자산가치, 매출액 및 \\nEBITDA 대비 누적 규제 리스크 \\n비용의 비율 검토\\n*   NGFS(Network for Greening the \\nFinancial System): 녹색금융협의체\\n규제 리스크 \\n도출 \\n대응 전략 및 \\n리스크 저감 가능 영역\\n배출량 감축 수단의 효과성·경제성\\n•   투자회사가 수립한 넷제로 목표 이행에 \\n따라 감소하는 규제 리스크 확인\\n•   탄소 감축 수단의 경제성 검토\\n가격/원가 구조 개선\\n•    시장 내 경쟁적 지위, 제품 가격 탄력성 \\n고려에 따라 전환 리스크로 발생하는 \\n비용의 리스크 저감 가능 영역 확인\\n실질 리스크 \\n도출\\n•    투자회사의 노출된 전환 리스크 비용 중, \\n투자회사가 경감할 수 있거나    \\n가격/원가 구조 개선 후의 잔여 리스크를   \\n실질 전환 리스크로 정의\\n•    실질 전환 리스크 비용에 따른 \\n탄소리스크보상비율 산출, 고위험 리스크  \\n대상(보상비율이 영업이익률 이상)   \\n투자회사 별도 관리\\n2050년까지 \\n예상 실질 전환 리스크 비용의 현재가치 \\n2050년까지 \\n예상 매출액의 현재가치 \\n탄소리스크 보상비율 (%) = '),\n",
       " Document(metadata={'source': '000660_SK_2023.pdf', 'page': 18}, page_content=\"ESG Special Report 2023\\n3736\\n넷제로 이행을 위한 탄소 감축 실행 역량 확대\\n기업에게 관계성(Relationship)이 중요한 자산인 오늘날, \\nSK주식회사가 속해 있는 네트워크가 곧 SK의 가치인 \\n시대입니다. 이에 SK주식회사는 향후 폭발적으로 확장할 \\n청정기술시장에서 핵심적인 기회를 선점하고, 글로벌 공급망 \\n재편에 흔들리지 않는 위상을 확보할 수 있도록 주요 대륙 \\n및 국가에  탄소 감축에 실질적으로 기여할 수 있는 친환경 \\n사업을 추진하고 글로벌 파트너사들과 협업하여 경쟁력을 \\n강화해 나가고자  합니다. 특히, 미국·유럽 지역 중심으로 \\n성장 잠재력이 높은 기술을 보유하거나 밸류체인 내 영향력이 \\n클 것으로 예상되는 기업을 대상으로 직접투자 및 공급망 \\n파트너링을 확대하여 글로벌 생산거점 및 투자 파이프라인을 \\n견고히 구축할 것입니다. \\nSK는 2030년 전세계 탄소배출량의 1%인 2억톤을 감축하고 \\n2050년 내  탄소중립을 조기 달성해 전 세계 탄소감축 \\n목표량에  기여하여 신뢰도 있는 넷제로 행보를 보이고자 \\n합니다. 전 인류가 공동으로 해결해야 하는 지상의 과제인  \\n기후위기 해결을 위해,  SK는 도전자의 자세로 이해관계자와의 \\n협력을 선도할 것을 약속합니다. \\nSK 텔레콤 – Joby Aviation\\n·   무공해, 저소음 미래  \\n도심항공교통 사업 \\nSK E&S\\n·   냉각 수소를 연료로 활용하는  \\n액화수소 드론 개발 \\nSK(주) & SK이노베이션 공동 투자 \\n- Terra Power\\n·  차세대 소형 모듈 원자로 기술 (SMR)\\nSK이노베이션 \\n– SK에너지 & SK어스온, SK E&S\\n·  탄소 포집, 활용, 저장기술 (CCUS)\\nSK에코플랜트 - Bloom Energy\\n·  연료전지 발전 사업\\nSK에코플랜트\\n·   해상풍력-그린수소 생산까지 신재생 \\n에너지 밸류체인 전반 사업개발\\nSK(주) & SK E&S 공동 투자 - Plug Power\\n·  모빌리티용 수소 연료전지 기술 \\nSK시그넷, SKE&S - 에버차지\\n·  EV  충전 사업\\nSK(주) & SK에너지 공동 투자 - Atom Power\\n·   SiC 전력반도체 기반 EV/ESS 적용   \\n에너지솔루션 사업\\nSKC – 넥세온 \\n·   전기차 배터리 신소재(실리콘 음극재) 기술\\nSKC – 넥실리스\\n·  리튬이온 배터리 핵심 소재 동박 생산\\nAir Mobility Future EnergyCLEAN MOBILITY\\nSK하이닉스\\n·   4세대 고성능 D램 및 고효율   \\n기업용 SSD 개발\\nSK이노베이션 – SK엔무브\\n·   냉각유를 활용한 액침냉각 등 열관리 사업\\nSKC - 앱솔릭스\\n·   전력 효율도 우수한 반도체 글라스   \\n기판 생산\\nGreen Digital SolutionZero Carbon Lifestyle\\nSK(주) - Halio\\n·   친환경 혁신 소재 Smart Glass를 통한 \\n건물용 에너지 효율 개선 기술\\nSK실트론 –테라온\\n·   나노탄소 발열소재 및 고내열 전도성   \\n잉크 소재 기술\\nSK이노베이션 - SK지오센트릭\\n·  폐배터리 · 플라스틱 재활용 사업\\nSK에코플랜트\\n·  폐플라스틱 재활용 사업\\n·   폐기물 배출-운송-처리 생애주기의 \\n디지털 기반 추적/관리 솔루션 개발\\n·  폐배터리 리사이클링 사업\\nSKC\\n·  폐플라스틱 열분해 기술\\nWaste to Resources\\nSustainable Food\\nSK(주) - Perfect Day, Nature's Fynd\\n·   발효 유(乳) 및 미생물     \\n발효 기술을 통한 단백질 생산\\nSK(주) - Wildtype\\n·   식물성 대체육 및 세포배양 연어육 생산\\nWhere we are heading    |     How we get there    |     What we are preparing\\nGoals for \\n2030: \\n글로벌 탄소감축 기여 \\n2억톤 달성 \\nZero Carbon \\nLifestyle\\nGreen Digital \\nSolution\\nWaste to \\nResources\\nSustainable \\nFood\\nFuture \\nEnergy\\nAir Mobility\\nClean Mobility\\nNET ZERO: \\nTEAM UP IN ACTION\"),\n",
       " Document(metadata={'source': '000660_SK_2023.pdf', 'page': 19}, page_content='2023 SK Inc. ESG Special Report\\n발간  SK주식회사(www.sk-inc.com)  \\n보고서 제작  Portfolio기획실\\n문의  서울 종로구 종로 26 SK서린빌딩  |  sustainability@sk.com  \\n본 보고서는 FSCⓇ(Forest Stewardship CouncilⓇ)인증을 받은 용지를 \\n사용하였으며, 콩기름 잉크로 인쇄되었습니다. FSCⓇ마크는 사회, 경제, 환경적 \\n관점에서 지속가능하게 관리된 삼림내에서 길러진 나무를 사용한 제품에만 \\n부착됩니다. 또한, 콩기름 잉크는 석유계 잉크에 비해 친환경적이며 휘발하지 않기 \\n때문에 대기오염을 줄일 수 있습니다.'),\n",
       " Document(metadata={'source': '000660_SK_2023.pdf', 'page': 20}, page_content='ESG Special Report 2023')]"
      ]
     },
     "execution_count": 2,
     "metadata": {},
     "output_type": "execute_result"
    }
   ],
   "source": [
    "pages"
   ]
  },
  {
   "cell_type": "code",
   "execution_count": 3,
   "metadata": {},
   "outputs": [
    {
     "data": {
      "text/plain": [
       "Document(metadata={'source': '000660_SK_2023.pdf', 'page': 10}, page_content='2120\\nESG Special Report 2023\\n투자 검토 단계\\nPre-Acquisition (인수 전)\\n01\\n포트폴리오 ESG 관리 체계\\n장기적 관점에서 기업가치 제고를 실현하기 위해 핵심자산인 \\n투자 포트폴리오의 경제적 가치와 함께 ESG 가치를 \\n통합적으로 관리하기 위한 체계를 구축하고 있습니다.\\n투자 검토 시점부터 인수 후, 회수 시점까지 투자\\nLife Cycle에 걸쳐 적용되는 체계적인 ESG 관리를 \\n기반으로 내부적으로는 ESG를 고려한 합리적인 투자의사 \\n결정을 이행하고, 시장에서는 포트폴리오의 기업가치가 \\n시장에서 제대로 평가받으며 나아가 사회·환경에 미치는 \\n파급력을 높일 수 있도록 노력하겠습니다.\\n포트폴리오 ESG 관리 원칙\\nSK주식회사 투자회사\\n기업가치 관점의\\nESG 중점관리 \\n항목 도출\\n자사 ESG \\n관리전략\\nESG 성과 \\n데이터 관리\\n기업가치와\\nESG 성과 \\n연계성 분석\\n포트폴리오 \\nESG 관리전략 \\nUpgrade\\n성장단계\\n산업특성\\nESG Divestment 전략 검토\\n       ESG Exit 리포트 발간\\n ·    인수 이후 ESG Value-up 기반 Exit 전략 도출\\n ·    중대 ESG 리스크/기회 현황 및   \\nESG 관리·공시 수준 확인\\n셀사이드(Sell-side) 점검사항 관리\\n       중대 ESG 이슈 존재 여부 검토\\n ·    매각 대상 시장 내 ESG 규제 준수 여부 확인\\n ·    ESG 우수 영역에 대한 정보공개 및    \\n기회 확대 방안 제시\\n ·    국내외 책임투자 기준 부합 여부 확인\\n ·    우수 관리 영역 정보공개 및   \\n이해관계자 커뮤니케이션\\n매각/투자 회수 단계\\n03\\nExit (투자 회수)\\n정기 ESG 점검\\n       투자회사 분류 \\n ·   전체 포트폴리오를 16개 업종, 기업 규모에 따라 3개 그룹으로 구분\\n       ESG 중점관리 항목 도출 \\n  ·   ESG 외부평가 및 주가 상관관계 상위 영역 분석에 따라   \\n산업 핵심관리 영역 도출\\n       정기 평가 실시 \\n   ·   연 2회 ESG 실적점검 실시,     \\n중요 ESG 리스크/기회 관련 이슈 식별\\n보유 단계\\n02\\nValue-up Period (보유 기간)\\nESG 기반 주주 소통\\n        주주 소통 대상 안건\\n  ·   해당 산업 ESG 중점관리 항목과 연관된 리스크가 식별되었거나,  \\n연중 중대한 ESG Controversy Issue(예상하지 못한 우려) 발생 시\\n       투자회사 유형별 관여 방식\\n ·    이사회 기타비상무이사를 통한 소통\\n ·    ESG 점검 리포트 또는 주주서한 발송\\n기후 리스크 관리\\n        전환 리스크\\n ·    탄소 규제/가격 변동에 따른 재무영향 점검  \\n[수익성] 매출액/영업이익 대비 탄소 비용 추이 고려  \\n[경제성] 투자 대비 감축 수단 효과 검토  \\n[시장성] 경쟁사 대비 속도/수준 감안 대응전략 점검\\n       물리적 리스크\\n ·    자산 소재 지역의 취약한 이상기후 요인 식별\\n ·    고위험 기업 대상 관리방안 마련 권고\\nESG 실사\\n       ESG 실사 수행\\n ·   실사 대상 기업 산업 및 규모에 따른 \\n체크리스트 생성\\n ·   점검항목은 유형에 따라   \\nESG 리스크와 관리체계로 구분\\n ·   서면진단 및 현장실사 실시\\n        시사점 도출\\n ·    Valuation 반영을 통한   \\n인수가액 조정\\n ·   PMI(Post-Merger Integration, \\n인수 합병 후 통합 과정)   \\n개선 과제 제시\\nESG는 의사결정과 행동에 반드시 \\n반영되어야 하는 필수 요소이자 \\n기회입니다. SK는 기업가치의 건강한 \\n성장과 이해관계자의 지속가능한 행복을 \\n위해 경영의사결정의 DNA로서 \\nESG(환경/사회/지배구조)를 \\n내재화하고 있습니다.\\nESG 관리의 단계적 고도화\\n포트폴리오 ESG 관리 역량 축적, \\n글로벌 Top-tier 수준 ESG 관리체계 확보\\n성장단계별 관리 차별화\\n투자기업 성숙도(기업의 Life Cycle)에\\n따라 적합한 ESG Value-up 실현\\n산업별 중점관리항목 체계화\\n산업별 기업가치에 큰 영향을 주는 \\nESG 이슈 집중 관리\\nWhere we are heading    |     How we get there    |     What we are preparing')"
      ]
     },
     "execution_count": 3,
     "metadata": {},
     "output_type": "execute_result"
    }
   ],
   "source": [
    "pages[10]"
   ]
  },
  {
   "cell_type": "markdown",
   "metadata": {},
   "source": [
    "## PyPDFDirectoryLoader"
   ]
  },
  {
   "cell_type": "code",
   "execution_count": 50,
   "metadata": {},
   "outputs": [
    {
     "data": {
      "text/plain": [
       "100"
      ]
     },
     "execution_count": 50,
     "metadata": {},
     "output_type": "execute_result"
    }
   ],
   "source": [
    "from langchain_community.document_loaders import PyPDFDirectoryLoader\n",
    "\n",
    "loader = PyPDFDirectoryLoader('./')\n",
    "data = loader.load()\n",
    "\n",
    "len(data)"
   ]
  },
  {
   "cell_type": "code",
   "execution_count": 51,
   "metadata": {},
   "outputs": [
    {
     "data": {
      "text/plain": [
       "Document(metadata={'source': '300720_한일시멘트_2023.pdf', 'page': 0}, page_content='한일홀딩스 www.hanil.com \\n한일시멘트 www.hanilcement.com \\n한일현대시멘트 www.hanilhdcement.com\\n100년이 지나도\\n함께하는 \\n지속가능경영을 \\n지향합니다. \\n2022 \\n한일 지속가능경영보고서 \\n')"
      ]
     },
     "execution_count": 51,
     "metadata": {},
     "output_type": "execute_result"
    }
   ],
   "source": [
    "data[0]"
   ]
  },
  {
   "cell_type": "code",
   "execution_count": 52,
   "metadata": {},
   "outputs": [
    {
     "data": {
      "text/plain": [
       "Document(metadata={'source': '000660_SK_2023.pdf', 'page': 20}, page_content='ESG Special Report 2023')"
      ]
     },
     "execution_count": 52,
     "metadata": {},
     "output_type": "execute_result"
    }
   ],
   "source": [
    "data[-1]"
   ]
  }
 ],
 "metadata": {
  "kernelspec": {
   "display_name": "3.11.9",
   "language": "python",
   "name": "python3"
  },
  "language_info": {
   "codemirror_mode": {
    "name": "ipython",
    "version": 3
   },
   "file_extension": ".py",
   "mimetype": "text/x-python",
   "name": "python",
   "nbconvert_exporter": "python",
   "pygments_lexer": "ipython3",
   "version": "3.11.9"
  }
 },
 "nbformat": 4,
 "nbformat_minor": 2
}
