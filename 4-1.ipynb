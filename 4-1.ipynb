{
 "cells": [
  {
   "cell_type": "markdown",
   "metadata": {},
   "source": [
    "Tavily API 사용해보기"
   ]
  },
  {
   "cell_type": "code",
   "execution_count": 1,
   "metadata": {},
   "outputs": [],
   "source": [
    "from langchain_community.tools import TavilySearchResults"
   ]
  },
  {
   "cell_type": "code",
   "execution_count": 2,
   "metadata": {},
   "outputs": [],
   "source": [
    "query = \"2025년 애플의 주가 전망에 대해서 분석하세요.\""
   ]
  },
  {
   "cell_type": "code",
   "execution_count": 5,
   "metadata": {},
   "outputs": [
    {
     "name": "stdout",
     "output_type": "stream",
     "text": [
      "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\n"
     ]
    }
   ],
   "source": [
    "import os\n",
    "from dotenv import load_dotenv\n",
    "\n",
    "load_dotenv()\n",
    "\n",
    "tavily_api_key = os.getenv(\"TAVILY_API_KEY\")\n",
    "print(tavily_api_key)"
   ]
  },
  {
   "cell_type": "code",
   "execution_count": 6,
   "metadata": {},
   "outputs": [],
   "source": [
    "web_search = TavilySearchResults(max_results=2)"
   ]
  },
  {
   "cell_type": "code",
   "execution_count": 7,
   "metadata": {},
   "outputs": [],
   "source": [
    "search_results = web_search.invoke(query)\n"
   ]
  },
  {
   "cell_type": "code",
   "execution_count": 8,
   "metadata": {},
   "outputs": [
    {
     "name": "stdout",
     "output_type": "stream",
     "text": [
      "{'url': 'https://achromatic0912.tistory.com/entry/2025년-애플-주가-전망', 'content': 'achromatic0912 님의 블로그 특히, 애플의 주요 기술 혁신, 제품 라인업, 그리고 향후 시장에서의 기회와 리스크를 분석하여 2025년 애플 주가에 대한 예측을 제시합니다. 또한, 삼성증권은 애플이 인공지능(AI) 기술의 발전과 아이폰 가격 인상, 그리고 서비스 부문 성장을 통해 향후 몇 년간 긍정적인 성과를 이어갈 것이라고 예측하고 있습니다. 아이폰은 여전히 애플 매출의 주요 원천이기 때문에, 아이폰 16의 성공적인 출시와 판매는 애플의 주가 상승을 이끌 중요한 요소가 될 것입니다. 혼합 현실 시장은 앞으로 몇 년간 급성장할 것으로 예상되며, 애플의 비전 프로는 이 시장에서 중요한 역할을 할 것입니다. 아이폰 16의 판매 부진과 AI 통합 기술에 대한 소비자 반응이 예상보다 저조할 경우, 애플의 매출 성장은 둔화될 수 있습니다. 아이폰 16의 출시와 AI 통합, 비전 프로와 자율주행차 개발 등은 애플의 성장을 견인할 중요한 요소입니다. achromatic0912 님의 블로그'}\n",
      "----------------------------------------------------------------------------------------------------\n",
      "{'url': 'https://stocklabshu.tistory.com/7', 'content': '📈 애플 주가 전망: 2025년 투자 매력 분석 아이폰 판매 성장, 서비스 매출 확대, 인공지능(AI) 및 증강현실(AR) 기술의 발전은 애플의 주가를 끌어올릴 주요 동력으로 평가됩니다. 2️⃣ 2025년 애플 주가 전망 AI 및 AR 신제품 출시: 2025년 상반기에 출시 예정인 AR 헤드셋 \"Vision Pro 2\"는 시장 기대감을 높이고 있습니다. 3️⃣ 2025년 투자 전략: 애플 주식, 지금이 적기일까? 주요 매력: 서비스 매출 확대, 혁신적 신제품, 글로벌 시장 확장. 📊 Microsoft FY25 Q1 실적 분석: AI와 클라우드 중심의 성장 전략\\xa0\\xa0(0)  2025.01.08 📊 아마존 매출 구조 심층 분석: 2024년 3Q 기반\\xa0\\xa0(0) 2025.01.05 📊 Microsoft FY25 Q1 실적 분석: AI와 클라우드 중심의 성장 전략 📊 아마존 매출 구조 심층 분석: 2024년 3Q 기반 📊 아마존 매출 구조 심층 분석: 2024년 3Q⋯'}\n",
      "----------------------------------------------------------------------------------------------------\n"
     ]
    }
   ],
   "source": [
    "for result in search_results:\n",
    "    print(result)\n",
    "    print(\"-\" * 100)"
   ]
  },
  {
   "cell_type": "markdown",
   "metadata": {},
   "source": [
    "- PythonAstREPLTool: LangChain에서 Python 코드를 실행하는 도구입니다. 이 도구는 Python Abstract Syntax Tree (AST)를 기반으로 코드를 실행하고 결과를 반환합니다.\n",
    "- initialize_agent: 에이전트를 초기화하는 함수입니다. 이 함수는 도구와 언어 모델을 결합해 에이전트가 특정 작업을 수행할 수 있도록 설정합니다.\n",
    "- AgentType: 사용할 에이전트 유형을 정의합니다. 예제에서는 ZERO_SHOT_REACT_DESCRIPTION 타입을 사용합니다.\n",
    "- ChatOpenAI: OpenAI의 GPT 모델을 사용하는 클래스입니다. 언어 모델과의 인터페이스를 제공합니다."
   ]
  },
  {
   "cell_type": "code",
   "execution_count": 9,
   "metadata": {},
   "outputs": [
    {
     "name": "stderr",
     "output_type": "stream",
     "text": [
      "/var/folders/9y/8gn45jd13x7_67gf0f254lg40000gn/T/ipykernel_12547/2431052180.py:10: LangChainDeprecationWarning: The class `ChatOpenAI` was deprecated in LangChain 0.0.10 and will be removed in 1.0. An updated version of the class exists in the :class:`~langchain-openai package and should be used instead. To use it run `pip install -U :class:`~langchain-openai` and import as `from :class:`~langchain_openai import ChatOpenAI``.\n",
      "  llm = ChatOpenAI(model=\"gpt-4o-mini\", temperature=0)\n",
      "/var/folders/9y/8gn45jd13x7_67gf0f254lg40000gn/T/ipykernel_12547/2431052180.py:14: LangChainDeprecationWarning: LangChain agents will continue to be supported, but it is recommended for new use cases to be built with LangGraph. LangGraph offers a more flexible and full-featured framework for building agents, including support for tool-calling, persistence of state, and human-in-the-loop workflows. For details, refer to the `LangGraph documentation <https://langchain-ai.github.io/langgraph/>`_ as well as guides for `Migrating from AgentExecutor <https://python.langchain.com/docs/how_to/migrate_agent/>`_ and LangGraph's `Pre-built ReAct agent <https://langchain-ai.github.io/langgraph/how-tos/create-react-agent/>`_.\n",
      "  agent = initialize_agent(\n",
      "/var/folders/9y/8gn45jd13x7_67gf0f254lg40000gn/T/ipykernel_12547/2431052180.py:22: LangChainDeprecationWarning: The method `Chain.run` was deprecated in langchain 0.1.0 and will be removed in 1.0. Use :meth:`~invoke` instead.\n",
      "  result = agent.run(\"\"\"\n"
     ]
    },
    {
     "name": "stdout",
     "output_type": "stream",
     "text": [
      "\n",
      "\n",
      "\u001b[1m> Entering new AgentExecutor chain...\u001b[0m\n",
      "\u001b[32;1m\u001b[1;3m1부터 10까지의 숫자 중 짝수만 출력하는 Python 코드를 작성해야 합니다. 짝수는 2로 나누었을 때 나머지가 0인 숫자들입니다. 이를 위해 for 루프와 조건문을 사용할 수 있습니다.\n",
      "\n",
      "Action: \n",
      "python_repl_ast\n",
      "\n",
      "Action Input: \n",
      "```python\n",
      "even_numbers = [num for num in range(1, 11) if num % 2 == 0]\n",
      "even_numbers\n",
      "```\n",
      "\u001b[0m\n",
      "Observation: \u001b[36;1m\u001b[1;3m[2, 4, 6, 8, 10]\u001b[0m\n",
      "Thought:\u001b[32;1m\u001b[1;3mI have executed the code to find even numbers from 1 to 10. The result is a list of even numbers: [2, 4, 6, 8, 10]. \n",
      "\n",
      "Thought: I now know the final answer.\n",
      "Final Answer: 1부터 10까지의 숫자 중 짝수는 [2, 4, 6, 8, 10]입니다.\u001b[0m\n",
      "\n",
      "\u001b[1m> Finished chain.\u001b[0m\n",
      "1부터 10까지의 숫자 중 짝수는 [2, 4, 6, 8, 10]입니다.\n"
     ]
    }
   ],
   "source": [
    "# 필요한 모듈 가져오기\n",
    "from langchain_experimental.tools import PythonAstREPLTool\n",
    "from langchain.agents import initialize_agent, AgentType\n",
    "from langchain.chat_models import ChatOpenAI\n",
    "\n",
    "# Python 코드 실행을 위한 REPL 도구 초기화\n",
    "python_repl = PythonAstREPLTool()\n",
    "\n",
    "# OpenAI의 GPT-4 모델 초기화\n",
    "llm = ChatOpenAI(model=\"gpt-4o-mini\", temperature=0)\n",
    "\n",
    "# 에이전트 초기화\n",
    "# ZERO_SHOT_REACT_DESCRIPTION 타입의 에이전트를 사용하며, verbose=True로 설정하여 상세 출력을 얻습니다.\n",
    "agent = initialize_agent(\n",
    "    [python_repl],  # 사용할 도구 리스트\n",
    "    llm,  # 사용할 언어 모델\n",
    "    agent=AgentType.ZERO_SHOT_REACT_DESCRIPTION,  # 에이전트 타입\n",
    "    verbose=True  # 상세 출력 설정\n",
    ")\n",
    "\n",
    "# 에이전트에게 작업 지시 및 실행\n",
    "result = agent.run(\"\"\"\n",
    "1부터 10까지의 숫자 중 짝수만 출력하는 Python 코드를 작성하고 실행해주세요.\n",
    "그리고 그 결과를 설명해주세요.\n",
    "\"\"\")\n",
    "\n",
    "# 결과 출력\n",
    "print(result)\n"
   ]
  },
  {
   "cell_type": "code",
   "execution_count": null,
   "metadata": {},
   "outputs": [],
   "source": []
  }
 ],
 "metadata": {
  "kernelspec": {
   "display_name": "3.11.9",
   "language": "python",
   "name": "python3"
  },
  "language_info": {
   "codemirror_mode": {
    "name": "ipython",
    "version": 3
   },
   "file_extension": ".py",
   "mimetype": "text/x-python",
   "name": "python",
   "nbconvert_exporter": "python",
   "pygments_lexer": "ipython3",
   "version": "3.11.9"
  }
 },
 "nbformat": 4,
 "nbformat_minor": 2
}
